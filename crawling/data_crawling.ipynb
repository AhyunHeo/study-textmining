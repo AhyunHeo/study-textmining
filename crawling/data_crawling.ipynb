{
 "cells": [
  {
   "cell_type": "code",
   "execution_count": 10,
   "id": "c3cecc98",
   "metadata": {},
   "outputs": [],
   "source": [
    "import requests\n",
    "from bs4 import BeautifulSoup"
   ]
  },
  {
   "cell_type": "code",
   "execution_count": 132,
   "id": "ced9d91e",
   "metadata": {},
   "outputs": [
    {
     "data": {
      "text/plain": [
       "range(0, 27)"
      ]
     },
     "execution_count": 132,
     "metadata": {},
     "output_type": "execute_result"
    }
   ],
   "source": [
    "range(27)"
   ]
  },
  {
   "cell_type": "code",
   "execution_count": 230,
   "id": "c30d85f4",
   "metadata": {},
   "outputs": [],
   "source": [
    "# 소프트웨어정책연구소 칼럼 크롤링\n",
    "\n",
    "title = []\n",
    "text = []\n",
    "topic = []\n",
    "\n",
    "for page in range(27) :\n",
    "    url = \"https://spri.kr/posts?code=data_all&study_type=&board_type=column&data_page={}\".format(page+1)\n",
    "    req = requests.get(url)\n",
    "    soup = BeautifulSoup(req.text,'html.parser')\n",
    "    \n",
    "    list_1 = soup.find_all(\"div\", {\"class\":\"title\"})\n",
    "    list_2= soup.find_all(\"div\", {\"class\":[\"title\",\"tag_list_area\"]})\n",
    "\n",
    "    for i in range(len(list_1)) :\n",
    "        title.append(list_1[i].a.text)\n",
    "        \n",
    "        post_url = \"https://spri.kr/\" + list_1[i].a.get('href')\n",
    "        post_req = requests.get(post_url)\n",
    "        post_soup = BeautifulSoup(post_req.text, 'html.parser')\n",
    "        list_ = post_soup.find(\"div\", {\"class\":\"view_cont_box\"})\n",
    "        text.append(list_.ul.text)\n",
    "        \n",
    "        texts = list_2[i].text.split('\\n')\n",
    "        topics = [t for t in texts if len(t)>=1]    # 리스트 공백 원소 제거\n",
    "        topic.append(topics)"
   ]
  },
  {
   "cell_type": "code",
   "execution_count": 231,
   "id": "55ae0b81",
   "metadata": {},
   "outputs": [
    {
     "name": "stdout",
     "output_type": "stream",
     "text": [
      "316 316 316\n"
     ]
    }
   ],
   "source": [
    "print(len(topic), len(text), len(title))"
   ]
  },
  {
   "cell_type": "code",
   "execution_count": 232,
   "id": "417e8b57",
   "metadata": {},
   "outputs": [
    {
     "data": {
      "text/html": [
       "<div>\n",
       "<style scoped>\n",
       "    .dataframe tbody tr th:only-of-type {\n",
       "        vertical-align: middle;\n",
       "    }\n",
       "\n",
       "    .dataframe tbody tr th {\n",
       "        vertical-align: top;\n",
       "    }\n",
       "\n",
       "    .dataframe thead th {\n",
       "        text-align: right;\n",
       "    }\n",
       "</style>\n",
       "<table border=\"1\" class=\"dataframe\">\n",
       "  <thead>\n",
       "    <tr style=\"text-align: right;\">\n",
       "      <th></th>\n",
       "      <th>title</th>\n",
       "      <th>text</th>\n",
       "      <th>topic</th>\n",
       "    </tr>\n",
       "  </thead>\n",
       "  <tbody>\n",
       "    <tr>\n",
       "      <th>0</th>\n",
       "      <td>개방형 혁신과 글로벌 SaaS 기업으로의 도약</td>\n",
       "      <td>\\n\\n\\n산업별 특화 SaaS 시장에서의 기회\\n\\n\\n새해부터 화두로 떠오른 챗...</td>\n",
       "      <td>[개방형 혁신과 글로벌 SaaS 기업으로의 도약]</td>\n",
       "    </tr>\n",
       "    <tr>\n",
       "      <th>1</th>\n",
       "      <td>‘디지털 플랫폼 정부’의 방향, 집합적 임팩트(Collective Impact)를 ...</td>\n",
       "      <td>\\n\\n\\n들어가며\\n\\n\\n어느덧 코로나19가 발병한지 3년이 넘어가면서 우리는 ...</td>\n",
       "      <td>[개방형 혁신, SaaS]</td>\n",
       "    </tr>\n",
       "    <tr>\n",
       "      <th>2</th>\n",
       "      <td>‘모든 기업가’에게 새로운 가능성을 제공하는 디지털 기술</td>\n",
       "      <td>\\n\\n\\n봉강호 선임연구원 소프트웨어정책연구소 디지털통계센터 bk91@spri.k...</td>\n",
       "      <td>[‘디지털 플랫폼 정부’의 방향, 집합적 임팩트(Collective Impact)를...</td>\n",
       "    </tr>\n",
       "    <tr>\n",
       "      <th>3</th>\n",
       "      <td>이어령은 인공지능을 어떻게 보았나</td>\n",
       "      <td>\\n\\n\\n\\n\\n지난 2월 26일 이어령 선생이 타계했다. 마지막까지 죽음의 관찰...</td>\n",
       "      <td>[디지털 플랫폼 정부, 집합적 임팩트]</td>\n",
       "    </tr>\n",
       "    <tr>\n",
       "      <th>4</th>\n",
       "      <td>화웨이의 출사표, 훙멍 OS 2.0</td>\n",
       "      <td>\\n\\n\\n심화되는 미중 기술 갈등과 화웨이 OS\\n\\n\\n2019년 미국이 화웨이...</td>\n",
       "      <td>[‘모든 기업가’에게 새로운 가능성을 제공하는 디지털 기술]</td>\n",
       "    </tr>\n",
       "    <tr>\n",
       "      <th>...</th>\n",
       "      <td>...</td>\n",
       "      <td>...</td>\n",
       "      <td>...</td>\n",
       "    </tr>\n",
       "    <tr>\n",
       "      <th>311</th>\n",
       "      <td>성균관 대학교 정보통신대학 졸업식 축사</td>\n",
       "      <td>\\n\\n\\n\\n\\n\\n\\n\\n\\n\\n\\n\\n\\n\\n\\n\\n성균관 대학교 정보통신대학...</td>\n",
       "      <td>[SW 중심 사회를 여는 프로그래밍 씽킹]</td>\n",
       "    </tr>\n",
       "    <tr>\n",
       "      <th>312</th>\n",
       "      <td>초·중등 SW 교육 준비 시급하다</td>\n",
       "      <td>\\n\\n\\n\\n\\n\\n\\n\\n\\n\\n\\n\\n\\n\\n\\n\\n새로운 시대를 살아갈 미래...</td>\n",
       "      <td>[초·중등 SW 교육 준비 시급하다]</td>\n",
       "    </tr>\n",
       "    <tr>\n",
       "      <th>313</th>\n",
       "      <td>게임 규제는 SW·문화 규제이다!</td>\n",
       "      <td>\\n\\n\\n\\n\\n\\n\\n\\n\\n\\n\\n\\n\\n\\n\\n\\n적지 않은 사람들이 취미나...</td>\n",
       "      <td>[월간SW중심사회 2015년 2월호]</td>\n",
       "    </tr>\n",
       "    <tr>\n",
       "      <th>314</th>\n",
       "      <td>소프트웨어로 만들어내는 가치와 방법론</td>\n",
       "      <td>\\n\\n\\n\\n\\n\\n\\r\\n\\t\\t김규호 박사, 앱센터 전문위원\\n\\n\\n\\n\\n...</td>\n",
       "      <td>[게임 규제는 SW·문화 규제이다!]</td>\n",
       "    </tr>\n",
       "    <tr>\n",
       "      <th>315</th>\n",
       "      <td>우리 SW 기업이 처한 딜레마</td>\n",
       "      <td>\\n\\n\\n\\n\\n\\n\\n\\n\\n\\n\\n\\n\\n\\n\\n\\n\\n\\n\\n2015년 1월...</td>\n",
       "      <td>[월간SW중심사회 2015년 2월호]</td>\n",
       "    </tr>\n",
       "  </tbody>\n",
       "</table>\n",
       "<p>316 rows × 3 columns</p>\n",
       "</div>"
      ],
      "text/plain": [
       "                                                 title  \\\n",
       "0                            개방형 혁신과 글로벌 SaaS 기업으로의 도약   \n",
       "1    ‘디지털 플랫폼 정부’의 방향, 집합적 임팩트(Collective Impact)를 ...   \n",
       "2                      ‘모든 기업가’에게 새로운 가능성을 제공하는 디지털 기술   \n",
       "3                                   이어령은 인공지능을 어떻게 보았나   \n",
       "4                                  화웨이의 출사표, 훙멍 OS 2.0   \n",
       "..                                                 ...   \n",
       "311                              성균관 대학교 정보통신대학 졸업식 축사   \n",
       "312                                 초·중등 SW 교육 준비 시급하다   \n",
       "313                                 게임 규제는 SW·문화 규제이다!   \n",
       "314                               소프트웨어로 만들어내는 가치와 방법론   \n",
       "315                                   우리 SW 기업이 처한 딜레마   \n",
       "\n",
       "                                                  text  \\\n",
       "0    \\n\\n\\n산업별 특화 SaaS 시장에서의 기회\\n\\n\\n새해부터 화두로 떠오른 챗...   \n",
       "1    \\n\\n\\n들어가며\\n\\n\\n어느덧 코로나19가 발병한지 3년이 넘어가면서 우리는 ...   \n",
       "2    \\n\\n\\n봉강호 선임연구원 소프트웨어정책연구소 디지털통계센터 bk91@spri.k...   \n",
       "3    \\n\\n\\n\\n\\n지난 2월 26일 이어령 선생이 타계했다. 마지막까지 죽음의 관찰...   \n",
       "4    \\n\\n\\n심화되는 미중 기술 갈등과 화웨이 OS\\n\\n\\n2019년 미국이 화웨이...   \n",
       "..                                                 ...   \n",
       "311  \\n\\n\\n\\n\\n\\n\\n\\n\\n\\n\\n\\n\\n\\n\\n\\n성균관 대학교 정보통신대학...   \n",
       "312  \\n\\n\\n\\n\\n\\n\\n\\n\\n\\n\\n\\n\\n\\n\\n\\n새로운 시대를 살아갈 미래...   \n",
       "313  \\n\\n\\n\\n\\n\\n\\n\\n\\n\\n\\n\\n\\n\\n\\n\\n적지 않은 사람들이 취미나...   \n",
       "314  \\n\\n\\n\\n\\n\\n\\r\\n\\t\\t김규호 박사, 앱센터 전문위원\\n\\n\\n\\n\\n...   \n",
       "315  \\n\\n\\n\\n\\n\\n\\n\\n\\n\\n\\n\\n\\n\\n\\n\\n\\n\\n\\n2015년 1월...   \n",
       "\n",
       "                                                 topic  \n",
       "0                          [개방형 혁신과 글로벌 SaaS 기업으로의 도약]  \n",
       "1                                       [개방형 혁신, SaaS]  \n",
       "2    [‘디지털 플랫폼 정부’의 방향, 집합적 임팩트(Collective Impact)를...  \n",
       "3                                [디지털 플랫폼 정부, 집합적 임팩트]  \n",
       "4                    [‘모든 기업가’에게 새로운 가능성을 제공하는 디지털 기술]  \n",
       "..                                                 ...  \n",
       "311                            [SW 중심 사회를 여는 프로그래밍 씽킹]  \n",
       "312                               [초·중등 SW 교육 준비 시급하다]  \n",
       "313                               [월간SW중심사회 2015년 2월호]  \n",
       "314                               [게임 규제는 SW·문화 규제이다!]  \n",
       "315                               [월간SW중심사회 2015년 2월호]  \n",
       "\n",
       "[316 rows x 3 columns]"
      ]
     },
     "execution_count": 232,
     "metadata": {},
     "output_type": "execute_result"
    }
   ],
   "source": [
    "import pandas as pd\n",
    "\n",
    "df = pd.DataFrame({\n",
    "    \"title\":title,\n",
    "    \"text\":text,\n",
    "    \"topic\":topic\n",
    "})\n",
    "\n",
    "df"
   ]
  },
  {
   "cell_type": "code",
   "execution_count": 238,
   "id": "59c6b8f6",
   "metadata": {},
   "outputs": [],
   "source": [
    "df.to_csv('crawling_data.csv', index = False)"
   ]
  }
 ],
 "metadata": {
  "kernelspec": {
   "display_name": "intown_kernel",
   "language": "python",
   "name": "intown_kernel"
  },
  "language_info": {
   "codemirror_mode": {
    "name": "ipython",
    "version": 3
   },
   "file_extension": ".py",
   "mimetype": "text/x-python",
   "name": "python",
   "nbconvert_exporter": "python",
   "pygments_lexer": "ipython3",
   "version": "3.7.0"
  }
 },
 "nbformat": 4,
 "nbformat_minor": 5
}
