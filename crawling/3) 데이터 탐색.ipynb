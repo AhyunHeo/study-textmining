{
 "cells": [
  {
   "cell_type": "code",
   "execution_count": 20,
   "id": "c07d2c0c",
   "metadata": {},
   "outputs": [
    {
     "data": {
      "text/html": [
       "<div>\n",
       "<style scoped>\n",
       "    .dataframe tbody tr th:only-of-type {\n",
       "        vertical-align: middle;\n",
       "    }\n",
       "\n",
       "    .dataframe tbody tr th {\n",
       "        vertical-align: top;\n",
       "    }\n",
       "\n",
       "    .dataframe thead th {\n",
       "        text-align: right;\n",
       "    }\n",
       "</style>\n",
       "<table border=\"1\" class=\"dataframe\">\n",
       "  <thead>\n",
       "    <tr style=\"text-align: right;\">\n",
       "      <th></th>\n",
       "      <th>topic</th>\n",
       "      <th>title</th>\n",
       "      <th>text</th>\n",
       "    </tr>\n",
       "  </thead>\n",
       "  <tbody>\n",
       "    <tr>\n",
       "      <th>0</th>\n",
       "      <td>퍼스널 컴퓨팅</td>\n",
       "      <td>구글, 8월부터 윈도우 8·8.1용 구글 드라이브 지원 중단</td>\n",
       "      <td>마이크로소프트가 지난 2016년 윈도우 8 지원을 종료하고 올해 초 윈도우 8.1에...</td>\n",
       "    </tr>\n",
       "    <tr>\n",
       "      <th>1</th>\n",
       "      <td>퍼스널 컴퓨팅</td>\n",
       "      <td>글로벌 칼럼ㅣ애플의 야심 찬 ‘비전 프로’, 지울 수 없는 ‘홀로렌즈’라는 기시감</td>\n",
       "      <td>허공에 고정할 수 있는 창부터 3차원 공룡, 화상통화, 땅에서 솟아오르는 3D 성까...</td>\n",
       "    </tr>\n",
       "    <tr>\n",
       "      <th>2</th>\n",
       "      <td>퍼스널 컴퓨팅</td>\n",
       "      <td>글로벌 칼럼ㅣWWDC의 진정한 주인공은 애플 실리콘이다</td>\n",
       "      <td>WWDC의 진정한 주인공은 여전히 애플 실리콘이다. 비전 프로 헤드셋이 가장 많은 ...</td>\n",
       "    </tr>\n",
       "    <tr>\n",
       "      <th>3</th>\n",
       "      <td>퍼스널 컴퓨팅</td>\n",
       "      <td>“얽히고 설킨” 케이블과의 전쟁⋯2023 PC 하드웨어 최신 트렌드</td>\n",
       "      <td>데스크톱 PC를 조립할 때 가장 번거로운 부분은 무엇일까? 부품의 호환성 확인, 비...</td>\n",
       "    </tr>\n",
       "    <tr>\n",
       "      <th>4</th>\n",
       "      <td>퍼스널 컴퓨팅</td>\n",
       "      <td>인텔 11세대 타이거 레이크 연내 단종, 여름 이후 할인 폭 클 듯</td>\n",
       "      <td>11세대 타이거 레이크 프로세서가 단종되고 남은 물량은 연내 할인 판매 등으로 소진...</td>\n",
       "    </tr>\n",
       "  </tbody>\n",
       "</table>\n",
       "</div>"
      ],
      "text/plain": [
       "     topic                                           title  \\\n",
       "0  퍼스널 컴퓨팅               구글, 8월부터 윈도우 8·8.1용 구글 드라이브 지원 중단   \n",
       "1  퍼스널 컴퓨팅  글로벌 칼럼ㅣ애플의 야심 찬 ‘비전 프로’, 지울 수 없는 ‘홀로렌즈’라는 기시감    \n",
       "2  퍼스널 컴퓨팅                  글로벌 칼럼ㅣWWDC의 진정한 주인공은 애플 실리콘이다   \n",
       "3  퍼스널 컴퓨팅           “얽히고 설킨” 케이블과의 전쟁⋯2023 PC 하드웨어 최신 트렌드   \n",
       "4  퍼스널 컴퓨팅           인텔 11세대 타이거 레이크 연내 단종, 여름 이후 할인 폭 클 듯   \n",
       "\n",
       "                                                text  \n",
       "0  마이크로소프트가 지난 2016년 윈도우 8 지원을 종료하고 올해 초 윈도우 8.1에...  \n",
       "1  허공에 고정할 수 있는 창부터 3차원 공룡, 화상통화, 땅에서 솟아오르는 3D 성까...  \n",
       "2  WWDC의 진정한 주인공은 여전히 애플 실리콘이다. 비전 프로 헤드셋이 가장 많은 ...  \n",
       "3  데스크톱 PC를 조립할 때 가장 번거로운 부분은 무엇일까? 부품의 호환성 확인, 비...  \n",
       "4  11세대 타이거 레이크 프로세서가 단종되고 남은 물량은 연내 할인 판매 등으로 소진...  "
      ]
     },
     "execution_count": 20,
     "metadata": {},
     "output_type": "execute_result"
    }
   ],
   "source": [
    "import re\n",
    "import pandas as pd\n",
    "\n",
    "df = pd.read_csv(\"./itworld_news.csv\")\n",
    "df.head()"
   ]
  },
  {
   "cell_type": "markdown",
   "id": "a45062fc",
   "metadata": {},
   "source": [
    "#### 데이터 정제"
   ]
  },
  {
   "cell_type": "code",
   "execution_count": 23,
   "id": "8602b12e",
   "metadata": {},
   "outputs": [
    {
     "data": {
      "text/plain": [
       "0              구글 8월부터 윈도우 8·81용 구글 드라이브 지원 중단\n",
       "1    글로벌 칼럼ㅣ애플의 야심 찬 비전 프로 지울 수 없는 홀로렌즈라는 기시감 \n",
       "2               글로벌 칼럼ㅣWWDC의 진정한 주인공은 애플 실리콘이다\n",
       "3          얽히고 설킨 케이블과의 전쟁⋯2023 PC 하드웨어 최신 트렌드\n",
       "4         인텔 11세대 타이거 레이크 연내 단종 여름 이후 할인 폭 클 듯\n",
       "Name: title, dtype: object"
      ]
     },
     "execution_count": 23,
     "metadata": {},
     "output_type": "execute_result"
    }
   ],
   "source": [
    "t = []\n",
    "\n",
    "for title in df['title']:\n",
    "    \n",
    "    RE_FILTER = re.compile(\"[.,!?\\\"'‘’“”•▲:;~()]\")    # 정규 표현식 필터\n",
    "    title = re.sub(RE_FILTER, \"\", title)    # 특수기호 제거\n",
    "    \n",
    "    t.append(title)\n",
    "\n",
    "df['title'] = t\n",
    "df['title'].head()"
   ]
  },
  {
   "cell_type": "code",
   "execution_count": 21,
   "id": "f0c86b6c",
   "metadata": {
    "scrolled": true
   },
   "outputs": [
    {
     "data": {
      "text/plain": [
       "0    마이크로소프트가 지난 2016년 윈도우 8 지원을 종료하고 올해 초 윈도우 81에 ...\n",
       "1    허공에 고정할 수 있는 창부터 3차원 공룡 화상통화 땅에서 솟아오르는 3D 성까지 ...\n",
       "2    WWDC의 진정한 주인공은 여전히 애플 실리콘이다 비전 프로 헤드셋이 가장 많은 관...\n",
       "3    데스크톱 PC를 조립할 때 가장 번거로운 부분은 무엇일까 부품의 호환성 확인 비싼 ...\n",
       "4    11세대 타이거 레이크 프로세서가 단종되고 남은 물량은 연내 할인 판매 등으로 소진...\n",
       "Name: text, dtype: object"
      ]
     },
     "execution_count": 21,
     "metadata": {},
     "output_type": "execute_result"
    }
   ],
   "source": [
    "list = []\n",
    "\n",
    "for doc in df['text']:\n",
    "    \n",
    "    RE_FILTER = re.compile(\"[.,!?\\\"'‘’“”•▲:;~()]\")    # 정규 표현식 필터\n",
    "    doc = re.sub(RE_FILTER, \"\", doc)    # 특수기호 제거\n",
    "    \n",
    "    list.append(doc)\n",
    "\n",
    "df['text'] = list\n",
    "df['text'].head()"
   ]
  },
  {
   "cell_type": "code",
   "execution_count": 45,
   "id": "e09f1370",
   "metadata": {
    "scrolled": true
   },
   "outputs": [],
   "source": [
    "df.to_csv('itworld_news_preprocessing.csv', index = False)"
   ]
  },
  {
   "cell_type": "markdown",
   "id": "d02832e6",
   "metadata": {},
   "source": [
    "#### 데이터 전처리"
   ]
  },
  {
   "cell_type": "code",
   "execution_count": null,
   "id": "f861fa66",
   "metadata": {},
   "outputs": [],
   "source": [
    "import pandas as pd\n",
    "import nltk\n",
    "from nltk.corpus import stopwords\n",
    "from sklearn.feature_extraction.text import TfidfVectorizer\n",
    "from konlpy.tag import Okt\n",
    "from konlpy.tag import Kkma"
   ]
  },
  {
   "cell_type": "code",
   "execution_count": 40,
   "id": "f6521241",
   "metadata": {},
   "outputs": [
    {
     "data": {
      "text/plain": [
       "'마이크로소프트가 2016년 윈도우 지원을 종료하고 윈도우 81에 지원을 종료했지만 여전히 사람이 미지원 버전을 사용한다 구글도 운영체제로 전환하도록 압력을 가하고 8월부터 구글은 윈도우 81용 드라이브 지원을 중단한다 Foundry/Google안드로이드 폴리스Android Police의 보도에 따르면 드라이브 페이지에서는 서비스를 윈도우 64비트 버전으로 업그레이드하라고 안내하고 32비트 윈도우 10에 지원도 중단할 예정이다 드라이브에 액세스는 가능하지만 동기화 기능은 중단된다구글은 크롬에서도 사용되지 윈도우 버전에 지원을 중단한 업체도 비슷한 움직임을 보이고 모질라도 윈도우 81에 파이어폭스 지원을 종료할 예정이라고 밝혔으며 스팀은 내년부터 윈도우 지원을 종료한다윈도우 10으로 업그레이드하는 간단하며 라이선스를 보유한 사용자는 업그레이드할 업그레이드 전에는 PC를 반드시 백업하는 업그레이드 도우미를 파일을 지우지 버전의 윈도우를 설치하는 이른바 인플레이스In-place 업그레이드를 수행한다 하더라도 만일의 사태에 대비하기 장치다한편 32비트에서 64비트 윈도우로 전환할 운영체제를 완전히 삭제하고 설치해야 하므로 반드시 백업을'"
      ]
     },
     "execution_count": 40,
     "metadata": {},
     "output_type": "execute_result"
    }
   ],
   "source": [
    "# 길이가 1~2인 단어들을 정규 표현식을 이용하여 삭제\n",
    "shortword = re.compile(r'\\W*\\b\\w{1,2}\\b')\n",
    "shortword.sub('', df['text'][0])"
   ]
  },
  {
   "cell_type": "code",
   "execution_count": 44,
   "id": "c37c11ff",
   "metadata": {
    "scrolled": true
   },
   "outputs": [
    {
     "data": {
      "text/plain": [
       "['마이크로소프트',\n",
       " '윈도우',\n",
       " '지원',\n",
       " '종료',\n",
       " '윈도우',\n",
       " '지원',\n",
       " '종료',\n",
       " '사람',\n",
       " '미지',\n",
       " '버전',\n",
       " '사용',\n",
       " '구글',\n",
       " '운영체제',\n",
       " '전환',\n",
       " '압력',\n",
       " '구글',\n",
       " '윈도우',\n",
       " '용',\n",
       " '드라이브',\n",
       " '지원',\n",
       " '중단',\n",
       " '안드로이드',\n",
       " '폴리스',\n",
       " '의',\n",
       " '보도',\n",
       " '드라이브',\n",
       " '페이지',\n",
       " '서비스',\n",
       " '윈도우',\n",
       " '비트',\n",
       " '버전',\n",
       " '업그레이드',\n",
       " '안내',\n",
       " '비트',\n",
       " '윈도우',\n",
       " '지원',\n",
       " '중단',\n",
       " '예정',\n",
       " '드라이브',\n",
       " '액세스',\n",
       " '동기화',\n",
       " '기능',\n",
       " '중단',\n",
       " '구글',\n",
       " '크롬',\n",
       " '사용',\n",
       " '윈도우',\n",
       " '버전',\n",
       " '지원',\n",
       " '중단',\n",
       " '업체',\n",
       " '움직임',\n",
       " '보이',\n",
       " '모질라',\n",
       " '윈도우',\n",
       " '파이어폭스',\n",
       " '지원',\n",
       " '종료',\n",
       " '예정',\n",
       " '스팀',\n",
       " '내년',\n",
       " '윈도우',\n",
       " '지원',\n",
       " '종료',\n",
       " '다윈',\n",
       " '도우',\n",
       " '업그레이드',\n",
       " '라이선스',\n",
       " '보유',\n",
       " '사용자',\n",
       " '업그레이드',\n",
       " '업그레이드',\n",
       " '전',\n",
       " '를',\n",
       " '반드시',\n",
       " '백업',\n",
       " '업그레이드',\n",
       " '도우미',\n",
       " '파일',\n",
       " '버전',\n",
       " '윈도우',\n",
       " '설치',\n",
       " '인플레',\n",
       " '이스',\n",
       " '업그레이드',\n",
       " '수행',\n",
       " '만일',\n",
       " '사태',\n",
       " '대비',\n",
       " '장치',\n",
       " '한편',\n",
       " '비트',\n",
       " '비트',\n",
       " '윈도우',\n",
       " '전환',\n",
       " '운영체제',\n",
       " '삭제',\n",
       " '설치',\n",
       " '반드시',\n",
       " '백업']"
      ]
     },
     "execution_count": 44,
     "metadata": {},
     "output_type": "execute_result"
    }
   ],
   "source": [
    "okt = Okt()\n",
    "\n",
    "# 1) morphs : 형태소 추출\n",
    "# 2) pos : 품사 태깅(Part-of-speech tagging)\n",
    "# 3) nouns : 명사 추출\n",
    "\n",
    "okt.nouns(shortword.sub('', df['text'][0]))"
   ]
  }
 ],
 "metadata": {
  "kernelspec": {
   "display_name": "intown_kernel",
   "language": "python",
   "name": "intown_kernel"
  },
  "language_info": {
   "codemirror_mode": {
    "name": "ipython",
    "version": 3
   },
   "file_extension": ".py",
   "mimetype": "text/x-python",
   "name": "python",
   "nbconvert_exporter": "python",
   "pygments_lexer": "ipython3",
   "version": "3.7.0"
  }
 },
 "nbformat": 4,
 "nbformat_minor": 5
}
