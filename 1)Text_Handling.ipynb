{
 "cells": [
  {
   "cell_type": "code",
   "execution_count": null,
   "id": "4591d535",
   "metadata": {},
   "outputs": [],
   "source": [
    "# 문서 불러오기"
   ]
  },
  {
   "cell_type": "markdown",
   "id": "745fd091",
   "metadata": {},
   "source": [
    "### 1. 텍스트데이터 간단한 처리"
   ]
  },
  {
   "cell_type": "code",
   "execution_count": 1,
   "id": "e2f474ac",
   "metadata": {},
   "outputs": [],
   "source": [
    "# 예제텍스트\n",
    "sentence_ = \"Quiet statisticians have changed our world, not by discovering new facts or technical developments, but by changing the ways that we reason, experiment and form our opinions.\"\n",
    "\n",
    "\n",
    "sentence = \"\"\"빅 데이터(영어: big data)란 기존 데이터베이스 관리도구의 능력을 넘어서는 대량(수십 테라바이트)의 정형 또는 심지어 데이터베이스 형태가 아닌 비정형의 데이터 집합조차 포함한 데이터로부터 가치를 추출하고 결과를 분석하는 기술이다. 즉, 기존의 데이터 베이스로는 처리하기 어려울 정도로 방대한 양의 데이터를 의미한다. \n",
    "\n",
    "다양한 종류의 대규모 데이터에 대한 생성, 수집, 분석, 표현을 그 특징으로 하는 빅 데이터 기술의 발전은 다변화된 현대 사회를 더욱 정확하게 예측하여 효율적으로 작동케 하고 개인화된 현대 사회 구성원마다 맞춤형 정보를 제공, 관리, 분석 가능케 하며 과거에는 불가능했던 기술을 실현시키기도 한다.\n",
    "\n",
    "이같이 빅 데이터는 정치, 사회, 경제, 문화, 과학 기술 등 전 영역에 걸쳐서 사회와 인류에게 가치 있는 정보를 제공할 수 있는 가능성을 제시하며 그 중요성이 부각되고 있다.\n",
    "\n",
    "하지만 빅데이터의 문제점은 바로 사생활 침해와 보안 측면에 자리하고 있다. 빅데이터는 수많은 개인들의 수많은 정보의 집합이다. 그렇기에 빅데이터를 수집, 분석할 때에 개인들의 사적인 정보까지 수집하여 관리하는 빅브라더의 모습이 될 수도 있는 것이다. 그리고 그렇게 모은 데이터가 보안 문제로 유출된다면, 이 역시 거의 모든 사람들의 정보가 유출되는 것이기에 큰 문제가 될 수 있다.\n",
    "\n",
    "세계 경제 포럼은 2012년 떠오르는 10대 기술 중 그 첫 번째를 빅 데이터 기술로 선정 했으며 대한민국 지식경제부 R&D 전략기획단은 IT 10대 핵심기술 가운데 하나로 빅 데이터를 선정 하기도 했다\"\"\""
   ]
  },
  {
   "cell_type": "markdown",
   "id": "d966e06f",
   "metadata": {},
   "source": [
    "#### 1) 문자열 전체 길이 확인"
   ]
  },
  {
   "cell_type": "code",
   "execution_count": 2,
   "id": "24589cbc",
   "metadata": {},
   "outputs": [
    {
     "data": {
      "text/plain": [
       "779"
      ]
     },
     "execution_count": 2,
     "metadata": {},
     "output_type": "execute_result"
    }
   ],
   "source": [
    "len(sentence)"
   ]
  },
  {
   "cell_type": "markdown",
   "id": "f28742b3",
   "metadata": {},
   "source": [
    "#### 2) 문자열 분해  \n",
    "- ```split(\"a\")``` : a를 기준으로 분리하여 리스트로 출력됨 "
   ]
  },
  {
   "cell_type": "code",
   "execution_count": 3,
   "id": "bdbdbe74",
   "metadata": {},
   "outputs": [
    {
     "data": {
      "text/plain": [
       "['빅',\n",
       " '데이터(영어:',\n",
       " 'big',\n",
       " 'data)란',\n",
       " '기존',\n",
       " '데이터베이스',\n",
       " '관리도구의',\n",
       " '능력을',\n",
       " '넘어서는',\n",
       " '대량(수십',\n",
       " '테라바이트)의',\n",
       " '정형',\n",
       " '또는',\n",
       " '심지어',\n",
       " '데이터베이스',\n",
       " '형태가',\n",
       " '아닌',\n",
       " '비정형의',\n",
       " '데이터',\n",
       " '집합조차',\n",
       " '포함한',\n",
       " '데이터로부터',\n",
       " '가치를',\n",
       " '추출하고',\n",
       " '결과를',\n",
       " '분석하는',\n",
       " '기술이다.',\n",
       " '즉,',\n",
       " '기존의',\n",
       " '데이터',\n",
       " '베이스로는',\n",
       " '처리하기',\n",
       " '어려울',\n",
       " '정도로',\n",
       " '방대한',\n",
       " '양의',\n",
       " '데이터를',\n",
       " '의미한다.',\n",
       " '\\n\\n다양한',\n",
       " '종류의',\n",
       " '대규모',\n",
       " '데이터에',\n",
       " '대한',\n",
       " '생성,',\n",
       " '수집,',\n",
       " '분석,',\n",
       " '표현을',\n",
       " '그',\n",
       " '특징으로',\n",
       " '하는',\n",
       " '빅',\n",
       " '데이터',\n",
       " '기술의',\n",
       " '발전은',\n",
       " '다변화된',\n",
       " '현대',\n",
       " '사회를',\n",
       " '더욱',\n",
       " '정확하게',\n",
       " '예측하여',\n",
       " '효율적으로',\n",
       " '작동케',\n",
       " '하고',\n",
       " '개인화된',\n",
       " '현대',\n",
       " '사회',\n",
       " '구성원마다',\n",
       " '맞춤형',\n",
       " '정보를',\n",
       " '제공,',\n",
       " '관리,',\n",
       " '분석',\n",
       " '가능케',\n",
       " '하며',\n",
       " '과거에는',\n",
       " '불가능했던',\n",
       " '기술을',\n",
       " '실현시키기도',\n",
       " '한다.\\n\\n이같이',\n",
       " '빅',\n",
       " '데이터는',\n",
       " '정치,',\n",
       " '사회,',\n",
       " '경제,',\n",
       " '문화,',\n",
       " '과학',\n",
       " '기술',\n",
       " '등',\n",
       " '전',\n",
       " '영역에',\n",
       " '걸쳐서',\n",
       " '사회와',\n",
       " '인류에게',\n",
       " '가치',\n",
       " '있는',\n",
       " '정보를',\n",
       " '제공할',\n",
       " '수',\n",
       " '있는',\n",
       " '가능성을',\n",
       " '제시하며',\n",
       " '그',\n",
       " '중요성이',\n",
       " '부각되고',\n",
       " '있다.\\n\\n하지만',\n",
       " '빅데이터의',\n",
       " '문제점은',\n",
       " '바로',\n",
       " '사생활',\n",
       " '침해와',\n",
       " '보안',\n",
       " '측면에',\n",
       " '자리하고',\n",
       " '있다.',\n",
       " '빅데이터는',\n",
       " '수많은',\n",
       " '개인들의',\n",
       " '수많은',\n",
       " '정보의',\n",
       " '집합이다.',\n",
       " '그렇기에',\n",
       " '빅데이터를',\n",
       " '수집,',\n",
       " '분석할',\n",
       " '때에',\n",
       " '개인들의',\n",
       " '사적인',\n",
       " '정보까지',\n",
       " '수집하여',\n",
       " '관리하는',\n",
       " '빅브라더의',\n",
       " '모습이',\n",
       " '될',\n",
       " '수도',\n",
       " '있는',\n",
       " '것이다.',\n",
       " '그리고',\n",
       " '그렇게',\n",
       " '모은',\n",
       " '데이터가',\n",
       " '보안',\n",
       " '문제로',\n",
       " '유출된다면,',\n",
       " '이',\n",
       " '역시',\n",
       " '거의',\n",
       " '모든',\n",
       " '사람들의',\n",
       " '정보가',\n",
       " '유출되는',\n",
       " '것이기에',\n",
       " '큰',\n",
       " '문제가',\n",
       " '될',\n",
       " '수',\n",
       " '있다.\\n\\n세계',\n",
       " '경제',\n",
       " '포럼은',\n",
       " '2012년',\n",
       " '떠오르는',\n",
       " '10대',\n",
       " '기술',\n",
       " '중',\n",
       " '그',\n",
       " '첫',\n",
       " '번째를',\n",
       " '빅',\n",
       " '데이터',\n",
       " '기술로',\n",
       " '선정',\n",
       " '했으며',\n",
       " '대한민국',\n",
       " '지식경제부',\n",
       " 'R&D',\n",
       " '전략기획단은',\n",
       " 'IT',\n",
       " '10대',\n",
       " '핵심기술',\n",
       " '가운데',\n",
       " '하나로',\n",
       " '빅',\n",
       " '데이터를',\n",
       " '선정',\n",
       " '하기도',\n",
       " '했다']"
      ]
     },
     "execution_count": 3,
     "metadata": {},
     "output_type": "execute_result"
    }
   ],
   "source": [
    "sentence.split(\" \")"
   ]
  },
  {
   "cell_type": "markdown",
   "id": "eca82ebc",
   "metadata": {},
   "source": [
    "#### 3) index(위치값) 출력 \n",
    "- ```index(\"a\")``` : a가 포함된 위치 출력\n",
    "- ```split().index(\"a\")``` : a가 처음 나타나는 위치"
   ]
  },
  {
   "cell_type": "code",
   "execution_count": 6,
   "id": "e57ee713",
   "metadata": {},
   "outputs": [
    {
     "data": {
      "text/plain": [
       "2"
      ]
     },
     "execution_count": 6,
     "metadata": {},
     "output_type": "execute_result"
    }
   ],
   "source": [
    "sentence.index(\"데이터\")"
   ]
  },
  {
   "cell_type": "code",
   "execution_count": 7,
   "id": "3fef5c19",
   "metadata": {},
   "outputs": [
    {
     "data": {
      "text/plain": [
       "18"
      ]
     },
     "execution_count": 7,
     "metadata": {},
     "output_type": "execute_result"
    }
   ],
   "source": [
    "sentence.split().index(\"데이터\")"
   ]
  },
  {
   "cell_type": "markdown",
   "id": "5c9ec25d",
   "metadata": {},
   "source": [
    "#### 4) 문자열 결합 \n",
    "- ```text``` + ```text```\n",
    "- ```join()```"
   ]
  },
  {
   "cell_type": "code",
   "execution_count": 9,
   "id": "890f0fda",
   "metadata": {},
   "outputs": [
    {
     "name": "stdout",
     "output_type": "stream",
     "text": [
      "빅 데이터(영어:\n"
     ]
    }
   ],
   "source": [
    "wd = sentence.split()\n",
    "print(wd[0] + ' ' + wd[1])"
   ]
  },
  {
   "cell_type": "code",
   "execution_count": 10,
   "id": "97d68b3e",
   "metadata": {},
   "outputs": [
    {
     "data": {
      "text/plain": [
       "'빅_데이터(영어:_big_data)란_기존_데이터베이스_관리도구의_능력을_넘어서는_대량(수십_테라바이트)의_정형_또는_심지어_데이터베이스_형태가_아닌_비정형의_데이터_집합조차_포함한_데이터로부터_가치를_추출하고_결과를_분석하는_기술이다._즉,_기존의_데이터_베이스로는_처리하기_어려울_정도로_방대한_양의_데이터를_의미한다._다양한_종류의_대규모_데이터에_대한_생성,_수집,_분석,_표현을_그_특징으로_하는_빅_데이터_기술의_발전은_다변화된_현대_사회를_더욱_정확하게_예측하여_효율적으로_작동케_하고_개인화된_현대_사회_구성원마다_맞춤형_정보를_제공,_관리,_분석_가능케_하며_과거에는_불가능했던_기술을_실현시키기도_한다._이같이_빅_데이터는_정치,_사회,_경제,_문화,_과학_기술_등_전_영역에_걸쳐서_사회와_인류에게_가치_있는_정보를_제공할_수_있는_가능성을_제시하며_그_중요성이_부각되고_있다._하지만_빅데이터의_문제점은_바로_사생활_침해와_보안_측면에_자리하고_있다._빅데이터는_수많은_개인들의_수많은_정보의_집합이다._그렇기에_빅데이터를_수집,_분석할_때에_개인들의_사적인_정보까지_수집하여_관리하는_빅브라더의_모습이_될_수도_있는_것이다._그리고_그렇게_모은_데이터가_보안_문제로_유출된다면,_이_역시_거의_모든_사람들의_정보가_유출되는_것이기에_큰_문제가_될_수_있다._세계_경제_포럼은_2012년_떠오르는_10대_기술_중_그_첫_번째를_빅_데이터_기술로_선정_했으며_대한민국_지식경제부_R&D_전략기획단은_IT_10대_핵심기술_가운데_하나로_빅_데이터를_선정_하기도_했다'"
      ]
     },
     "execution_count": 10,
     "metadata": {},
     "output_type": "execute_result"
    }
   ],
   "source": [
    "# .join() : 리스트 원소들 사이에 특정 구분자(_)를 추가하여 결합\n",
    "('_'.join(sentence.split()))"
   ]
  },
  {
   "cell_type": "markdown",
   "id": "77c6fed4",
   "metadata": {},
   "source": [
    "#### 5) 문자열 공백 처리 \n",
    "- ```strip()``` : 문자열의 <b>앞 뒤</b> 공백, 탭 문자, 줄 바꿈\n",
    "- ```lstrip()``` : 문자열의 <b>왼쪽</b> 공백, 탭 문자, 줄 바꿈\n",
    "- ```rstrip()``` : 문자열의 <b>오른쪽</b> 공백, 탭 문자, 줄 바꿈"
   ]
  },
  {
   "cell_type": "code",
   "execution_count": 11,
   "id": "d75d22dd",
   "metadata": {},
   "outputs": [],
   "source": [
    "# 예제 텍스트\n",
    "sentence2 = [\" Natural  \", \"  Language              \", \"    Processing   \"]"
   ]
  },
  {
   "cell_type": "code",
   "execution_count": 16,
   "id": "390e592e",
   "metadata": {},
   "outputs": [
    {
     "data": {
      "text/plain": [
       "['Natural', 'Language', 'Processing']"
      ]
     },
     "execution_count": 16,
     "metadata": {},
     "output_type": "execute_result"
    }
   ],
   "source": [
    "result = []\n",
    "for i in range(len(sentence2)):\n",
    "    result.append( sentence2[i].strip() )\n",
    "    \n",
    "result"
   ]
  },
  {
   "cell_type": "code",
   "execution_count": 17,
   "id": "fed4376d",
   "metadata": {},
   "outputs": [
    {
     "data": {
      "text/plain": [
       "['Natural  ', 'Language              ', 'Processing   ']"
      ]
     },
     "execution_count": 17,
     "metadata": {},
     "output_type": "execute_result"
    }
   ],
   "source": [
    "result = []\n",
    "for i in range(len(sentence2)):\n",
    "    result.append( sentence2[i].lstrip() )\n",
    "    \n",
    "result"
   ]
  },
  {
   "cell_type": "code",
   "execution_count": 18,
   "id": "88faaad4",
   "metadata": {},
   "outputs": [
    {
     "data": {
      "text/plain": [
       "[' Natural', '  Language', '    Processing']"
      ]
     },
     "execution_count": 18,
     "metadata": {},
     "output_type": "execute_result"
    }
   ],
   "source": [
    "result = []\n",
    "for i in range(len(sentence2)):\n",
    "    result.append( sentence2[i].rstrip() )\n",
    "    \n",
    "result"
   ]
  },
  {
   "cell_type": "markdown",
   "id": "42f6cca1",
   "metadata": {},
   "source": [
    "### 2. 문자열 패턴 탐색"
   ]
  },
  {
   "cell_type": "markdown",
   "id": "e49707b7",
   "metadata": {},
   "source": [
    "#### 1) 특정단어 여부 확인\n",
    "- ```in```, ```not in```"
   ]
  },
  {
   "cell_type": "code",
   "execution_count": 19,
   "id": "bfb11cb5",
   "metadata": {},
   "outputs": [
    {
     "data": {
      "text/plain": [
       "True"
      ]
     },
     "execution_count": 19,
     "metadata": {},
     "output_type": "execute_result"
    }
   ],
   "source": [
    "'데이터' in sentence"
   ]
  },
  {
   "cell_type": "code",
   "execution_count": 22,
   "id": "804b35e0",
   "metadata": {},
   "outputs": [
    {
     "data": {
      "text/plain": [
       "False"
      ]
     },
     "execution_count": 22,
     "metadata": {},
     "output_type": "execute_result"
    }
   ],
   "source": [
    "'데이터' not in sentence"
   ]
  },
  {
   "cell_type": "code",
   "execution_count": 23,
   "id": "297002ea",
   "metadata": {},
   "outputs": [
    {
     "data": {
      "text/plain": [
       "False"
      ]
     },
     "execution_count": 23,
     "metadata": {},
     "output_type": "execute_result"
    }
   ],
   "source": [
    "'감자' in sentence"
   ]
  },
  {
   "cell_type": "code",
   "execution_count": 24,
   "id": "f2f6ed9e",
   "metadata": {},
   "outputs": [
    {
     "data": {
      "text/plain": [
       "True"
      ]
     },
     "execution_count": 24,
     "metadata": {},
     "output_type": "execute_result"
    }
   ],
   "source": [
    "'감자' not in sentence"
   ]
  },
  {
   "cell_type": "markdown",
   "id": "7d535186",
   "metadata": {},
   "source": [
    "#### 2) 여러개 문자열에서 특정단어를 포함한 문자열 추출"
   ]
  },
  {
   "cell_type": "code",
   "execution_count": 25,
   "id": "e7fb257f",
   "metadata": {
    "scrolled": true
   },
   "outputs": [
    {
     "name": "stdout",
     "output_type": "stream",
     "text": [
      "빅 데이터(영어: big data)란 기존 데이터베이스 관리도구의 능력을 넘어서는 대량(수십 테라바이트)의 정형 또는 심지어 데이터베이스 형태가 아닌 비정형의 데이터 집합조차 포함한 데이터로부터 가치를 추출하고 결과를 분석하는 기술이다. 즉, 기존의 데이터 베이스로는 처리하기 어려울 정도로 방대한 양의 데이터를 의미한다. \n"
     ]
    }
   ],
   "source": [
    "sentences = sentence.split(\"\\n\")\n",
    "for sent in sentences:\n",
    "    if '데이터베이스' in sent:\n",
    "        print(sent)"
   ]
  },
  {
   "cell_type": "markdown",
   "id": "349dc4ed",
   "metadata": {},
   "source": [
    "### 3. NLTK, KoNLPy 패키지"
   ]
  },
  {
   "cell_type": "markdown",
   "id": "7db353ab",
   "metadata": {},
   "source": [
    "- NLTK : 자연어 처리 패키지\n",
    "- KoNLPy : 한국어 자연어 처리를 위한 형태소 분석기 패키지"
   ]
  },
  {
   "cell_type": "code",
   "execution_count": null,
   "id": "7a799d88",
   "metadata": {},
   "outputs": [],
   "source": [
    "# pip install nltk\n",
    "# pip install konlpy"
   ]
  }
 ],
 "metadata": {
  "kernelspec": {
   "display_name": "intown1_kernel",
   "language": "python",
   "name": "intown1_kernel"
  },
  "language_info": {
   "codemirror_mode": {
    "name": "ipython",
    "version": 3
   },
   "file_extension": ".py",
   "mimetype": "text/x-python",
   "name": "python",
   "nbconvert_exporter": "python",
   "pygments_lexer": "ipython3",
   "version": "3.11.3"
  }
 },
 "nbformat": 4,
 "nbformat_minor": 5
}
