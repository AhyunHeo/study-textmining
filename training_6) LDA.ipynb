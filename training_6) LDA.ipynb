{
 "cells": [
  {
   "cell_type": "markdown",
   "id": "a03b7cbe-8476-45b6-ac3e-0e2dd5e0fe97",
   "metadata": {},
   "source": [
    "## LDA 실습"
   ]
  },
  {
   "cell_type": "code",
   "execution_count": 1,
   "id": "e139c5ed-ed07-47f3-8737-a1246d7f2fbf",
   "metadata": {},
   "outputs": [],
   "source": [
    "import pandas as pd\n",
    "import urllib.request\n",
    "import nltk\n",
    "from nltk.corpus import stopwords\n",
    "from nltk.stem import WordNetLemmatizer\n",
    "from sklearn.feature_extraction.text import TfidfVectorizer\n",
    "from sklearn.decomposition import LatentDirichletAllocation"
   ]
  },
  {
   "cell_type": "markdown",
   "id": "6168269f-9c19-4770-b37c-7a39619155e3",
   "metadata": {},
   "source": [
    "#### 1) 데이터 로드"
   ]
  },
  {
   "cell_type": "code",
   "execution_count": 2,
   "id": "a6a1767d-f9ca-4715-a569-c32d4614745c",
   "metadata": {
    "tags": []
   },
   "outputs": [
    {
     "name": "stderr",
     "output_type": "stream",
     "text": [
      "C:\\ProgramData\\Anaconda3\\envs\\intown\\lib\\site-packages\\IPython\\core\\interactiveshell.py:3457: FutureWarning: The error_bad_lines argument has been deprecated and will be removed in a future version.\n",
      "\n",
      "\n",
      "  exec(code_obj, self.user_global_ns, self.user_ns)\n"
     ]
    },
    {
     "name": "stdout",
     "output_type": "stream",
     "text": [
      "뉴스 제목 개수 : 1082168\n"
     ]
    }
   ],
   "source": [
    "# 뉴스 기사 제목을 모아놓은 영어 데이터  https://github.com/franciscadias/data/blob/master/abcnews-date-text.csv\n",
    "\n",
    "data = pd.read_csv('./abcnews-date-text.csv', error_bad_lines=False)\n",
    "print('뉴스 제목 개수 :',len(data))"
   ]
  },
  {
   "cell_type": "code",
   "execution_count": 12,
   "id": "1762d363-17f6-4e42-ae45-864b4cd37fde",
   "metadata": {},
   "outputs": [
    {
     "name": "stdout",
     "output_type": "stream",
     "text": [
      "   publish_date                                      headline_text\n",
      "0      20030219  aba decides against community broadcasting lic...\n",
      "1      20030219     act fire witnesses must be aware of defamation\n",
      "2      20030219     a g calls for infrastructure protection summit\n",
      "3      20030219           air nz staff in aust strike for pay rise\n",
      "4      20030219      air nz strike to affect australian travellers\n"
     ]
    }
   ],
   "source": [
    "print(data.head(5))"
   ]
  },
  {
   "cell_type": "code",
   "execution_count": 3,
   "id": "3eaab4ad-5d96-449d-bc9d-5adca4e0150b",
   "metadata": {},
   "outputs": [
    {
     "data": {
      "text/html": [
       "<div>\n",
       "<style scoped>\n",
       "    .dataframe tbody tr th:only-of-type {\n",
       "        vertical-align: middle;\n",
       "    }\n",
       "\n",
       "    .dataframe tbody tr th {\n",
       "        vertical-align: top;\n",
       "    }\n",
       "\n",
       "    .dataframe thead th {\n",
       "        text-align: right;\n",
       "    }\n",
       "</style>\n",
       "<table border=\"1\" class=\"dataframe\">\n",
       "  <thead>\n",
       "    <tr style=\"text-align: right;\">\n",
       "      <th></th>\n",
       "      <th>headline_text</th>\n",
       "    </tr>\n",
       "  </thead>\n",
       "  <tbody>\n",
       "    <tr>\n",
       "      <th>0</th>\n",
       "      <td>aba decides against community broadcasting lic...</td>\n",
       "    </tr>\n",
       "    <tr>\n",
       "      <th>1</th>\n",
       "      <td>act fire witnesses must be aware of defamation</td>\n",
       "    </tr>\n",
       "    <tr>\n",
       "      <th>2</th>\n",
       "      <td>a g calls for infrastructure protection summit</td>\n",
       "    </tr>\n",
       "    <tr>\n",
       "      <th>3</th>\n",
       "      <td>air nz staff in aust strike for pay rise</td>\n",
       "    </tr>\n",
       "    <tr>\n",
       "      <th>4</th>\n",
       "      <td>air nz strike to affect australian travellers</td>\n",
       "    </tr>\n",
       "  </tbody>\n",
       "</table>\n",
       "</div>"
      ],
      "text/plain": [
       "                                       headline_text\n",
       "0  aba decides against community broadcasting lic...\n",
       "1     act fire witnesses must be aware of defamation\n",
       "2     a g calls for infrastructure protection summit\n",
       "3           air nz staff in aust strike for pay rise\n",
       "4      air nz strike to affect australian travellers"
      ]
     },
     "execution_count": 3,
     "metadata": {},
     "output_type": "execute_result"
    }
   ],
   "source": [
    "text = data[['headline_text']]\n",
    "text.head(5)"
   ]
  },
  {
   "cell_type": "markdown",
   "id": "33524116-418c-477b-92d6-8fbadc4595f5",
   "metadata": {},
   "source": [
    "#### 2) 텍스트 전처리"
   ]
  },
  {
   "cell_type": "code",
   "execution_count": 4,
   "id": "b481bbb8-4a85-42ed-9aa7-91bddde67231",
   "metadata": {},
   "outputs": [
    {
     "name": "stdout",
     "output_type": "stream",
     "text": [
      "                                       headline_text\n",
      "0  [aba, decides, against, community, broadcastin...\n",
      "1  [act, fire, witnesses, must, be, aware, of, de...\n",
      "2  [a, g, calls, for, infrastructure, protection,...\n",
      "3  [air, nz, staff, in, aust, strike, for, pay, r...\n",
      "4  [air, nz, strike, to, affect, australian, trav...\n"
     ]
    },
    {
     "name": "stderr",
     "output_type": "stream",
     "text": [
      "C:\\ProgramData\\Anaconda3\\envs\\intown\\lib\\site-packages\\ipykernel_launcher.py:2: SettingWithCopyWarning: \n",
      "A value is trying to be set on a copy of a slice from a DataFrame.\n",
      "Try using .loc[row_indexer,col_indexer] = value instead\n",
      "\n",
      "See the caveats in the documentation: https://pandas.pydata.org/pandas-docs/stable/user_guide/indexing.html#returning-a-view-versus-a-copy\n",
      "  \n"
     ]
    }
   ],
   "source": [
    "# 단어 토큰화\n",
    "text['headline_text'] = text.apply(lambda row: nltk.word_tokenize(row['headline_text']), axis=1)\n",
    "print(text.head(5))"
   ]
  },
  {
   "cell_type": "code",
   "execution_count": 5,
   "id": "10ed9156-402c-4324-9731-9499f42abd0c",
   "metadata": {},
   "outputs": [
    {
     "name": "stdout",
     "output_type": "stream",
     "text": [
      "                                       headline_text\n",
      "0   [aba, decides, community, broadcasting, licence]\n",
      "1    [act, fire, witnesses, must, aware, defamation]\n",
      "2     [g, calls, infrastructure, protection, summit]\n",
      "3          [air, nz, staff, aust, strike, pay, rise]\n",
      "4  [air, nz, strike, affect, australian, travellers]\n"
     ]
    },
    {
     "name": "stderr",
     "output_type": "stream",
     "text": [
      "C:\\ProgramData\\Anaconda3\\envs\\intown\\lib\\site-packages\\ipykernel_launcher.py:3: SettingWithCopyWarning: \n",
      "A value is trying to be set on a copy of a slice from a DataFrame.\n",
      "Try using .loc[row_indexer,col_indexer] = value instead\n",
      "\n",
      "See the caveats in the documentation: https://pandas.pydata.org/pandas-docs/stable/user_guide/indexing.html#returning-a-view-versus-a-copy\n",
      "  This is separate from the ipykernel package so we can avoid doing imports until\n"
     ]
    }
   ],
   "source": [
    "# 불용어 제거\n",
    "stop_words = stopwords.words('english')\n",
    "text['headline_text'] = text['headline_text'].apply(lambda x: [word for word in x if word not in (stop_words)])\n",
    "print(text.head(5))"
   ]
  },
  {
   "cell_type": "code",
   "execution_count": 6,
   "id": "9f43a0ff-cede-4336-8b8b-87e4c065e717",
   "metadata": {},
   "outputs": [
    {
     "name": "stdout",
     "output_type": "stream",
     "text": [
      "                                       headline_text\n",
      "0       [aba, decide, community, broadcast, licence]\n",
      "1      [act, fire, witness, must, aware, defamation]\n",
      "2      [g, call, infrastructure, protection, summit]\n",
      "3          [air, nz, staff, aust, strike, pay, rise]\n",
      "4  [air, nz, strike, affect, australian, travellers]\n"
     ]
    },
    {
     "name": "stderr",
     "output_type": "stream",
     "text": [
      "C:\\ProgramData\\Anaconda3\\envs\\intown\\lib\\site-packages\\ipykernel_launcher.py:2: SettingWithCopyWarning: \n",
      "A value is trying to be set on a copy of a slice from a DataFrame.\n",
      "Try using .loc[row_indexer,col_indexer] = value instead\n",
      "\n",
      "See the caveats in the documentation: https://pandas.pydata.org/pandas-docs/stable/user_guide/indexing.html#returning-a-view-versus-a-copy\n",
      "  \n"
     ]
    }
   ],
   "source": [
    "# 표제어 추출\n",
    "text['headline_text'] = text['headline_text'].apply(lambda x: [WordNetLemmatizer().lemmatize(word, pos='v') for word in x])\n",
    "print(text.head(5))"
   ]
  },
  {
   "cell_type": "code",
   "execution_count": 7,
   "id": "51ab9796-7528-4793-a63c-06121fbd0ea0",
   "metadata": {},
   "outputs": [
    {
     "name": "stdout",
     "output_type": "stream",
     "text": [
      "0       [decide, community, broadcast, licence]\n",
      "1      [fire, witness, must, aware, defamation]\n",
      "2    [call, infrastructure, protection, summit]\n",
      "3                   [staff, aust, strike, rise]\n",
      "4      [strike, affect, australian, travellers]\n",
      "Name: headline_text, dtype: object\n"
     ]
    }
   ],
   "source": [
    "# 길이 3이하 단어 제거\n",
    "tokenized_doc = text['headline_text'].apply(lambda x: [word for word in x if len(word) > 3])\n",
    "print(tokenized_doc[:5])"
   ]
  },
  {
   "cell_type": "markdown",
   "id": "aaf308dc-f505-4f14-b1fc-d5843b3021d9",
   "metadata": {},
   "source": [
    "#### 3) TF-IDF 행렬 생성"
   ]
  },
  {
   "cell_type": "code",
   "execution_count": 8,
   "id": "0e8c7443-41e8-43a9-b9d7-bced81830490",
   "metadata": {},
   "outputs": [
    {
     "name": "stderr",
     "output_type": "stream",
     "text": [
      "C:\\ProgramData\\Anaconda3\\envs\\intown\\lib\\site-packages\\ipykernel_launcher.py:8: SettingWithCopyWarning: \n",
      "A value is trying to be set on a copy of a slice from a DataFrame.\n",
      "Try using .loc[row_indexer,col_indexer] = value instead\n",
      "\n",
      "See the caveats in the documentation: https://pandas.pydata.org/pandas-docs/stable/user_guide/indexing.html#returning-a-view-versus-a-copy\n",
      "  \n"
     ]
    }
   ],
   "source": [
    "# 역토큰화 (토큰화 작업을 되돌림)\n",
    "detokenized_doc = []\n",
    "for i in range(len(text)):\n",
    "    t = ' '.join(tokenized_doc[i])\n",
    "    detokenized_doc.append(t)\n",
    "\n",
    "# 다시 text['headline_text']에 재저장\n",
    "text['headline_text'] = detokenized_doc"
   ]
  },
  {
   "cell_type": "code",
   "execution_count": 19,
   "id": "28542564-a9db-4c65-af5a-f77ea1a7fc89",
   "metadata": {},
   "outputs": [
    {
     "data": {
      "text/plain": [
       "0       decide community broadcast licence\n",
       "1       fire witness must aware defamation\n",
       "2    call infrastructure protection summit\n",
       "3                   staff aust strike rise\n",
       "4      strike affect australian travellers\n",
       "Name: headline_text, dtype: object"
      ]
     },
     "execution_count": 19,
     "metadata": {},
     "output_type": "execute_result"
    }
   ],
   "source": [
    "text['headline_text'][:5]"
   ]
  },
  {
   "cell_type": "code",
   "execution_count": 9,
   "id": "427b2cad-4e50-4f5d-9747-87195196b3ad",
   "metadata": {},
   "outputs": [
    {
     "name": "stdout",
     "output_type": "stream",
     "text": [
      "TF-IDF 행렬의 크기 : (1082168, 1000)\n"
     ]
    }
   ],
   "source": [
    "# 상위 1,000개의 단어를 보존 \n",
    "vectorizer = TfidfVectorizer(stop_words='english', max_features= 1000)\n",
    "X = vectorizer.fit_transform(text['headline_text'])\n",
    "\n",
    "# TF-IDF 행렬의 크기 확인\n",
    "print('TF-IDF 행렬의 크기 :',X.shape)"
   ]
  },
  {
   "cell_type": "markdown",
   "id": "eeb9623f-9864-4169-b94f-a1fa6083e4d5",
   "metadata": {},
   "source": [
    "#### 4) 토픽 모델링 \n",
    "- 사이킷런"
   ]
  },
  {
   "cell_type": "code",
   "execution_count": 22,
   "id": "fa090feb-a340-41bf-b181-cac668c8e553",
   "metadata": {},
   "outputs": [
    {
     "name": "stdout",
     "output_type": "stream",
     "text": [
      "[[1.00001533e-01 1.00001269e-01 1.00004179e-01 ... 1.00006124e-01\n",
      "  1.00003111e-01 1.00003064e-01]\n",
      " [1.00001199e-01 1.13513398e+03 3.50170830e+03 ... 1.00009349e-01\n",
      "  1.00001896e-01 1.00002937e-01]\n",
      " [1.00001811e-01 1.00001151e-01 1.00003566e-01 ... 1.00002693e-01\n",
      "  1.00002061e-01 7.53381835e+02]\n",
      " ...\n",
      " [1.00001065e-01 1.00001689e-01 1.00003278e-01 ... 1.00006721e-01\n",
      "  1.00004902e-01 1.00004759e-01]\n",
      " [1.00002401e-01 1.00000732e-01 1.00002989e-01 ... 1.00003517e-01\n",
      "  1.00001428e-01 1.00005266e-01]\n",
      " [1.00003427e-01 1.00002313e-01 1.00007340e-01 ... 1.00003732e-01\n",
      "  1.00001207e-01 1.00005153e-01]]\n",
      "(10, 1000)\n"
     ]
    }
   ],
   "source": [
    "lda_model = LatentDirichletAllocation(n_components=10,learning_method='online',random_state=777,max_iter=1)\n",
    "lda_top = lda_model.fit_transform(X)\n",
    "\n",
    "print(lda_model.components_)\n",
    "print(lda_model.components_.shape) "
   ]
  },
  {
   "cell_type": "code",
   "execution_count": 23,
   "id": "042a602d-02bb-474d-a13b-f690bb2679d2",
   "metadata": {},
   "outputs": [
    {
     "name": "stdout",
     "output_type": "stream",
     "text": [
      "Topic 1: [('government', 8725.19), ('sydney', 8393.29), ('queensland', 7720.12), ('change', 5874.27), ('home', 5674.38)]\n",
      "Topic 2: [('australia', 13691.08), ('australian', 11088.95), ('melbourne', 7528.43), ('world', 6707.7), ('south', 6677.03)]\n",
      "Topic 3: [('death', 5935.06), ('interview', 5924.98), ('kill', 5851.6), ('jail', 4632.85), ('life', 4275.27)]\n",
      "Topic 4: [('house', 6113.49), ('2016', 5488.19), ('state', 4923.41), ('brisbane', 4857.21), ('tasmania', 4610.97)]\n",
      "Topic 5: [('court', 7542.74), ('attack', 6959.64), ('open', 5663.0), ('face', 5193.63), ('warn', 5115.01)]\n",
      "Topic 6: [('market', 5545.86), ('rural', 5502.89), ('plan', 4828.71), ('indigenous', 4223.4), ('power', 3968.26)]\n",
      "Topic 7: [('charge', 8428.8), ('election', 7561.63), ('adelaide', 6758.36), ('make', 5658.99), ('test', 5062.69)]\n",
      "Topic 8: [('police', 12092.44), ('crash', 5281.14), ('drug', 4290.87), ('beat', 3257.58), ('rise', 2934.92)]\n",
      "Topic 9: [('fund', 4693.03), ('labor', 4047.69), ('national', 4038.68), ('council', 4006.62), ('claim', 3604.75)]\n",
      "Topic 10: [('trump', 11966.41), ('perth', 6456.53), ('report', 5611.33), ('school', 5465.06), ('woman', 5456.76)]\n"
     ]
    },
    {
     "name": "stderr",
     "output_type": "stream",
     "text": [
      "C:\\ProgramData\\Anaconda3\\envs\\intown\\lib\\site-packages\\sklearn\\utils\\deprecation.py:87: FutureWarning: Function get_feature_names is deprecated; get_feature_names is deprecated in 1.0 and will be removed in 1.2. Please use get_feature_names_out instead.\n",
      "  warnings.warn(msg, category=FutureWarning)\n"
     ]
    }
   ],
   "source": [
    "# 단어 집합. 1,000개의 단어가 저장됨.\n",
    "terms = vectorizer.get_feature_names()\n",
    "\n",
    "def get_topics(components, feature_names, n=5):\n",
    "    for idx, topic in enumerate(components):\n",
    "        print(\"Topic %d:\" % (idx+1), [(feature_names[i], topic[i].round(2)) for i in topic.argsort()[:-n - 1:-1]])\n",
    "\n",
    "get_topics(lda_model.components_,terms)"
   ]
  },
  {
   "cell_type": "markdown",
   "id": "eba83642-b5d4-4045-aa12-42cad1d0e8a5",
   "metadata": {},
   "source": [
    "- gensim"
   ]
  },
  {
   "cell_type": "code",
   "execution_count": 10,
   "id": "d874e907-0bb0-4ee7-b31f-83d6595fc842",
   "metadata": {},
   "outputs": [
    {
     "name": "stdout",
     "output_type": "stream",
     "text": [
      "[(4, 1), (5, 1), (6, 1), (7, 1), (8, 1)]\n"
     ]
    }
   ],
   "source": [
    "from gensim import corpora\n",
    "dictionary = corpora.Dictionary(tokenized_doc)\n",
    "corpus = [dictionary.doc2bow(text) for text in tokenized_doc]\n",
    "print(corpus[1]) # 수행된 결과에서 두번째 뉴스 출력. 첫번째 문서의 인덱스는 0"
   ]
  },
  {
   "cell_type": "code",
   "execution_count": 11,
   "id": "2100519e-3482-472b-874b-c06444cd8557",
   "metadata": {},
   "outputs": [
    {
     "name": "stdout",
     "output_type": "stream",
     "text": [
      "(0, '0.023*\"change\" + 0.022*\"market\" + 0.015*\"make\" + 0.015*\"share\"')\n",
      "(1, '0.023*\"year\" + 0.021*\"test\" + 0.021*\"years\" + 0.019*\"2016\"')\n",
      "(2, '0.029*\"election\" + 0.024*\"perth\" + 0.024*\"sydney\" + 0.021*\"canberra\"')\n",
      "(3, '0.022*\"live\" + 0.020*\"tasmania\" + 0.016*\"claim\" + 0.014*\"party\"')\n",
      "(4, '0.025*\"fire\" + 0.022*\"house\" + 0.018*\"coast\" + 0.017*\"north\"')\n",
      "(5, '0.052*\"australia\" + 0.043*\"trump\" + 0.022*\"world\" + 0.017*\"donald\"')\n",
      "(6, '0.031*\"adelaide\" + 0.017*\"women\" + 0.016*\"league\" + 0.015*\"national\"')\n",
      "(7, '0.029*\"government\" + 0.025*\"queensland\" + 0.022*\"call\" + 0.020*\"report\"')\n",
      "(8, '0.042*\"australian\" + 0.027*\"attack\" + 0.021*\"kill\" + 0.020*\"show\"')\n",
      "(9, '0.031*\"police\" + 0.028*\"find\" + 0.028*\"charge\" + 0.025*\"court\"')\n"
     ]
    }
   ],
   "source": [
    "import gensim\n",
    "NUM_TOPICS = 10 \n",
    "ldamodel = gensim.models.ldamodel.LdaModel(corpus, num_topics = NUM_TOPICS, id2word=dictionary, passes=5)\n",
    "topics = ldamodel.print_topics(num_words=4)\n",
    "for topic in topics:\n",
    "    print(topic)"
   ]
  },
  {
   "cell_type": "code",
   "execution_count": 12,
   "id": "311f7db4-2b47-4001-82bb-9dd88c87db84",
   "metadata": {},
   "outputs": [
    {
     "name": "stderr",
     "output_type": "stream",
     "text": [
      "C:\\Users\\heo\\AppData\\Roaming\\Python\\Python37\\site-packages\\pyLDAvis\\_prepare.py:247: FutureWarning: In a future version of pandas all arguments of DataFrame.drop except for the argument 'labels' will be keyword-only\n",
      "  by='saliency', ascending=False).head(R).drop('saliency', 1)\n"
     ]
    },
    {
     "data": {
      "text/html": [
       "\n",
       "<link rel=\"stylesheet\" type=\"text/css\" href=\"https://cdn.jsdelivr.net/gh/bmabey/pyLDAvis@3.3.1/pyLDAvis/js/ldavis.v1.0.0.css\">\n",
       "\n",
       "\n",
       "<div id=\"ldavis_el1548417711690967121176488463\"></div>\n",
       "<script type=\"text/javascript\">\n",
       "\n",
       "var ldavis_el1548417711690967121176488463_data = {\"mdsDat\": {\"x\": [-0.2064950348292257, -0.06744954740424118, 0.14055559856118882, 0.07525366169610834, -0.020674130813569384, -0.22564683147541395, 0.2689665118955319, 0.12673375710052112, -0.16930118254450074, 0.07805719781360096], \"y\": [-0.1427452663587684, 0.2920858367080473, -0.06220035510003673, 0.30556508326938014, -0.07922751488230262, -0.018358588219959535, -0.05307899278109111, -0.16447562189143666, -0.04595610253464243, -0.0316084782091894], \"topics\": [1, 2, 3, 4, 5, 6, 7, 8, 9, 10], \"cluster\": [1, 1, 1, 1, 1, 1, 1, 1, 1, 1], \"Freq\": [12.155292509533567, 11.770100662789638, 10.77746893523368, 10.658408468807778, 9.892711078429684, 9.586925085346284, 9.33532075752564, 8.785486032642915, 8.765801973632962, 8.272484496057855]}, \"tinfo\": {\"Term\": [\"australia\", \"australian\", \"trump\", \"police\", \"government\", \"find\", \"charge\", \"election\", \"attack\", \"court\", \"queensland\", \"adelaide\", \"fire\", \"sydney\", \"call\", \"perth\", \"house\", \"report\", \"change\", \"kill\", \"market\", \"year\", \"murder\", \"world\", \"canberra\", \"live\", \"show\", \"test\", \"woman\", \"years\", \"government\", \"queensland\", \"report\", \"mine\", \"health\", \"hospital\", \"indigenous\", \"need\", \"victorian\", \"release\", \"review\", \"royal\", \"farmers\", \"industry\", \"question\", \"reveal\", \"future\", \"commission\", \"seek\", \"cost\", \"regional\", \"prison\", \"doctor\", \"issue\", \"care\", \"come\", \"london\", \"senate\", \"draw\", \"french\", \"call\", \"fund\", \"concern\", \"school\", \"plan\", \"public\", \"warn\", \"find\", \"charge\", \"court\", \"murder\", \"home\", \"face\", \"open\", \"jail\", \"drug\", \"arrest\", \"people\", \"abuse\", \"rural\", \"guilty\", \"sentence\", \"allege\", \"assault\", \"case\", \"look\", \"body\", \"premier\", \"station\", \"stab\", \"mother\", \"youth\", \"appeal\", \"festival\", \"rescue\", \"plead\", \"michael\", \"police\", \"help\", \"former\", \"accuse\", \"tell\", \"death\", \"power\", \"sydney\", \"fire\", \"house\", \"coast\", \"north\", \"brisbane\", \"rise\", \"country\", \"west\", \"price\", \"flood\", \"gold\", \"fall\", \"victoria\", \"interview\", \"return\", \"city\", \"talk\", \"bill\", \"hold\", \"darwin\", \"storm\", \"shark\", \"australias\", \"save\", \"workers\", \"race\", \"project\", \"cause\", \"white\", \"keep\", \"melbourne\", \"meet\", \"south\", \"australian\", \"attack\", \"kill\", \"show\", \"woman\", \"miss\", \"child\", \"leave\", \"trial\", \"service\", \"train\", \"children\", \"dead\", \"fear\", \"news\", \"farm\", \"island\", \"four\", \"search\", \"young\", \"road\", \"residents\", \"driver\", \"baby\", \"food\", \"injure\", \"stand\", \"bomb\", \"steal\", \"deny\", \"crash\", \"force\", \"police\", \"change\", \"market\", \"share\", \"life\", \"water\", \"fight\", \"final\", \"students\", \"hear\", \"rule\", \"street\", \"laws\", \"protest\", \"challenge\", \"trade\", \"speak\", \"chinese\", \"climate\", \"bring\", \"free\", \"mental\", \"black\", \"right\", \"despite\", \"know\", \"march\", \"anti\", \"peter\", \"history\", \"legal\", \"make\", \"close\", \"election\", \"perth\", \"canberra\", \"state\", \"turnbull\", \"labor\", \"deal\", \"high\", \"federal\", \"centre\", \"vote\", \"campaign\", \"study\", \"port\", \"star\", \"launch\", \"announce\", \"australians\", \"president\", \"officer\", \"malcolm\", \"link\", \"liberal\", \"union\", \"islamic\", \"newcastle\", \"research\", \"leader\", \"dollar\", \"welcome\", \"sydney\", \"three\", \"back\", \"work\", \"australia\", \"trump\", \"world\", \"donald\", \"tasmanian\", \"shoot\", \"budget\", \"john\", \"drum\", \"violence\", \"beat\", \"head\", \"second\", \"week\", \"company\", \"2017\", \"cricket\", \"season\", \"play\", \"debate\", \"2015\", \"still\", \"million\", \"coal\", \"david\", \"fatal\", \"domestic\", \"truck\", \"post\", \"sign\", \"first\", \"south\", \"take\", \"year\", \"test\", \"years\", \"2016\", \"china\", \"record\", \"lose\", \"break\", \"push\", \"hobart\", \"hour\", \"ahead\", \"western\", \"turn\", \"mark\", \"fail\", \"five\", \"team\", \"india\", \"hill\", \"battle\", \"cancer\", \"long\", \"womens\", \"investigate\", \"nation\", \"unite\", \"coach\", \"russia\", \"girl\", \"time\", \"first\", \"live\", \"tasmania\", \"claim\", \"party\", \"green\", \"name\", \"strike\", \"target\", \"christmas\", \"drive\", \"light\", \"begin\", \"action\", \"inquest\", \"great\", \"rail\", \"international\", \"behind\", \"town\", \"cattle\", \"airport\", \"point\", \"investigation\", \"victim\", \"thousands\", \"political\", \"probe\", \"comment\", \"mount\", \"double\", \"call\", \"police\", \"adelaide\", \"women\", \"league\", \"national\", \"bank\", \"park\", \"near\", \"community\", \"media\", \"move\", \"game\", \"risk\", \"energy\", \"business\", \"wall\", \"river\", \"cyclone\", \"parliament\", \"inquiry\", \"george\", \"rugby\", \"super\", \"beach\", \"chief\", \"offer\", \"murray\", \"victims\", \"confirm\", \"quiz\", \"slam\", \"lead\", \"family\", \"minister\", \"give\"], \"Freq\": [24064.0, 22247.0, 19950.0, 29080.0, 17382.0, 16603.0, 16573.0, 13813.0, 14362.0, 14867.0, 15086.0, 12700.0, 13282.0, 16669.0, 17226.0, 11376.0, 11967.0, 12384.0, 11198.0, 11343.0, 10678.0, 10126.0, 11465.0, 10137.0, 10214.0, 9664.0, 10398.0, 9243.0, 9991.0, 8986.0, 17381.31590537076, 15085.58480873314, 12383.82673530107, 9235.037695482628, 9052.719693981224, 9045.904378359217, 8324.618216602976, 6991.539326482149, 5541.325332440851, 5476.857257202616, 5368.670670016686, 5264.153954826572, 5256.432859593012, 4958.5738812238105, 4897.93114761621, 4894.608829115624, 4877.645176751236, 4876.291576995911, 4203.223533864661, 4030.35510069262, 3953.020504933676, 3928.316041983487, 3830.4518499354417, 3771.0041483215678, 3756.0111862376652, 3461.3199016778985, 3359.7987934369394, 3349.641443962105, 3263.6304033295546, 3182.852380477684, 13057.446244999304, 7431.502057442045, 5208.271633841633, 6861.63881363318, 6809.489453771229, 3912.151987976438, 3780.2303698748237, 16602.75487493413, 16573.101191977603, 14866.868441256102, 11465.08603281951, 10107.07542398337, 10014.920247030183, 8824.722996900837, 8431.90742338921, 7958.421025178554, 6855.1857666396845, 6483.355658272989, 6053.264348211881, 5953.086215319182, 5891.207074489086, 5428.3235888155305, 5263.901263970721, 5243.655968192157, 5029.326482931715, 4475.607798099088, 4308.48906407031, 4234.664942371538, 4181.741741785429, 4030.41446937082, 4003.2703805592187, 3927.2903860376223, 3710.6386671166683, 3676.215882572194, 3583.4132619654492, 3575.305761993669, 3575.0494026700185, 17984.45199438481, 7184.640224252371, 5593.490446589665, 5516.357926002382, 4771.652090495718, 6538.71236337498, 5392.548917922829, 5395.062875630709, 13281.654860957744, 11966.462764141477, 9533.49228518554, 9165.124464744154, 8299.869082398276, 7289.312599167702, 6948.339848536839, 6432.225143964105, 6393.025186912847, 6244.39378529532, 5955.604569677726, 5887.470752090413, 5884.617920988743, 5691.157814680634, 5478.604916468701, 4785.378446002943, 4780.498366749719, 4770.366620998934, 4473.795049949579, 4259.214903586091, 4228.96800156434, 4156.864343638857, 4151.069280740979, 4142.207124741673, 4022.8836681306416, 4000.852889714987, 3925.6434316834575, 3889.7348186378035, 3764.68172645283, 3583.146124515856, 7274.204880681284, 4511.740400605984, 4379.309503618162, 22246.182637681814, 14362.03352152078, 11342.384381260126, 10397.620092293417, 9991.10963668522, 8011.858585833069, 7574.164000615212, 7366.582953422163, 7224.859271199009, 6863.478007864121, 6562.669082385429, 6207.777535989502, 6099.468067246881, 5901.242505900614, 5512.637919724733, 5125.5274650459505, 5113.09283349573, 4831.949642085441, 4775.381576641465, 4739.401902335833, 4387.467007556971, 4087.478496100322, 4028.2807592214544, 3968.780985512678, 3677.261606523789, 3676.380686350211, 3645.7482740570003, 3585.257681246347, 3468.6208373052777, 3391.5127856441836, 7366.248564323474, 4632.171665765495, 7828.288849208078, 11197.33535953536, 10678.09329640592, 7170.625808439845, 7021.022655411282, 6953.226105061709, 6826.163274116925, 6708.847882067037, 5188.1016292330305, 5147.081424642751, 4488.889532962201, 4081.6229047644224, 4067.814109404008, 4047.5329999471714, 4005.8072498550937, 3956.4896651237787, 3693.7447953204255, 3670.2841466642876, 3626.186406691569, 3592.6567205898464, 3543.9486373170375, 3375.00487294531, 3308.7633650532416, 3218.9094635010747, 3175.3375589348293, 3072.118406709051, 3060.5566752063796, 3020.421726213224, 2955.227763137016, 2954.156150004817, 2879.652103724888, 7402.556815112661, 3569.3297083949005, 13812.77609072714, 11376.169594540543, 10213.42763546413, 9122.870347203441, 7431.0874963917395, 7410.500750639951, 6850.930716347245, 6557.111765535641, 5298.335645258774, 5206.185767327082, 4873.222766390342, 4642.053488394446, 4496.087427780044, 4463.045918542442, 4360.922544659655, 4259.28076325809, 4078.005621428075, 3946.034620547091, 3936.140205280181, 3771.9340515761896, 3499.102359082632, 3492.5124501582873, 3402.629255657595, 2939.1942326513545, 2899.4684063692416, 2864.538734728318, 2860.1713040210593, 2651.688186232691, 2632.428263308554, 2539.071294259257, 11273.618829544344, 2952.9920349478134, 3261.0981553234656, 2981.10366321872, 24063.692100556847, 19949.30338106067, 10136.807440211669, 7754.951163956936, 7005.113417797593, 6368.283470115171, 5326.117792335406, 4429.272699844643, 4385.648361102297, 4318.329766834626, 4188.762811542972, 3872.3512720150306, 3774.0925743893945, 3699.360278150982, 3565.3806625277903, 3584.4329724298414, 3452.280933627295, 3451.5400825667302, 3404.819310851543, 3400.951094934441, 3399.1135679973618, 3385.6592801237516, 3366.3275017340366, 3332.950701384171, 3291.4550386380342, 3185.7819901210196, 3153.1471223661133, 3036.1190442361544, 2968.2776362419477, 2803.7258552619646, 6686.72267032683, 7071.935804084846, 4581.47573740957, 10125.409354984766, 9242.771538968598, 8985.67078376223, 8304.074692427996, 7953.826670309794, 7226.125149083415, 6871.091679409915, 6397.6869847432, 5042.280009506449, 4887.681635549644, 4442.221772370133, 4302.290791098984, 4172.83535565035, 4123.7212089440445, 4099.3583382864745, 4088.3905680216967, 3945.6918929883454, 3746.5897524610364, 3540.2341208970415, 3482.3246684618675, 3386.008274123587, 3125.639458042081, 3100.915663506871, 3098.151226812939, 3029.991984099696, 2974.5391754069647, 2921.402956521078, 2864.9374031632283, 2861.6687315877884, 2844.396294986651, 5027.121206645597, 3077.955367872953, 9663.194927546405, 8691.701962258328, 7162.709201218394, 6308.087741140877, 5041.305982225882, 4526.995233419778, 4351.581545612124, 4153.255349184859, 4124.172744589374, 4120.130842228457, 4044.883619351165, 3988.2202104645467, 3966.8801846629367, 3712.638839062501, 3555.2508171205054, 3473.5710792798855, 3331.196591946644, 3198.3297151417687, 3139.0274924122846, 3063.0502897819706, 3033.3672900418183, 2991.036791904083, 2979.2096575082965, 2873.1743097277495, 2838.0282422588753, 2826.4537775383133, 2808.6986550869638, 2808.3184319100974, 2806.8477075384694, 2798.3544317030887, 4168.487837097386, 3267.0270250876624, 12699.921284073647, 6855.234393760997, 6601.930662798753, 6197.924196324575, 5886.292974831258, 5761.858081493978, 5502.832315909742, 5403.3656736062485, 5103.209956894835, 4723.990795431292, 4721.090292017787, 4654.394047915894, 4382.79828412581, 4164.789378404279, 3984.182629044801, 3865.791792913089, 3865.835495978003, 3603.880858324089, 3562.0110219751223, 3547.060740172333, 3489.053355423746, 3388.3871789964273, 3164.8659366924494, 3055.3029279932653, 2982.383405783634, 2878.9221500029093, 2791.0276192563933, 2609.319092628819, 2585.853805331834, 2576.182010378181, 4473.921091272688, 4174.690039408403, 3737.9975139807048, 3118.6509039463926], \"Total\": [24064.0, 22247.0, 19950.0, 29080.0, 17382.0, 16603.0, 16573.0, 13813.0, 14362.0, 14867.0, 15086.0, 12700.0, 13282.0, 16669.0, 17226.0, 11376.0, 11967.0, 12384.0, 11198.0, 11343.0, 10678.0, 10126.0, 11465.0, 10137.0, 10214.0, 9664.0, 10398.0, 9243.0, 9991.0, 8986.0, 17382.131277558346, 15086.400217316785, 12384.642129497413, 9235.853065154259, 9053.535058641983, 9046.71974641393, 8325.433605059787, 6992.354708661777, 5542.140717713989, 5477.672640774805, 5369.48604159347, 5264.96930441487, 5257.248237613913, 4959.3892523119175, 4898.746540641351, 4895.424234940291, 4878.460562066067, 4877.106922993349, 4204.038921972827, 4031.170483659179, 3953.8358833996667, 3929.1314435181766, 3831.267222287854, 3771.819541049888, 3756.8265676727206, 3462.1353031693634, 3360.614346566902, 3350.456840182638, 3264.44585187605, 3183.6678252045053, 17226.648347449955, 9600.230477356017, 6641.189963016856, 11191.7338285239, 12760.810378131382, 4886.8927075205265, 9839.783851922006, 16603.58277676425, 16573.929061083116, 14867.696323628461, 11465.913884389016, 10107.90334303795, 10015.748157317443, 8825.550921583297, 8432.735305137916, 7959.24891268804, 6856.013641396884, 6484.183579992049, 6054.09225791927, 5953.91406822668, 5892.034921430316, 5429.151462965284, 5264.729140005532, 5244.4838371218975, 5030.154375616605, 4476.435740342055, 4309.316938678381, 4235.492886784269, 4182.569647361432, 4031.242325937677, 4004.098274845104, 3928.1183304068186, 3711.4665479069586, 3677.043798262146, 3584.2411829304315, 3576.133606922252, 3575.8773220373855, 29080.40039072976, 9426.517317518534, 7223.493580910013, 7100.945778519532, 5636.451571942223, 10958.45172594105, 7470.0686036369125, 16669.41998071318, 13282.483121774216, 11967.29104577801, 9534.32051302857, 9165.95271939168, 8300.697365845544, 7290.140873291583, 6949.168075424492, 6433.053392219039, 6393.853453709574, 6245.222050876456, 5956.432801997576, 5888.299020669979, 5885.446225087721, 5691.986057287389, 5479.433188120769, 4786.206714621858, 4781.326649021349, 4771.194921353132, 4474.623322757637, 4260.04318210662, 4229.796256110328, 4157.692615577399, 4151.897588437924, 4143.035418533536, 4023.7119562344105, 4001.681141518002, 3926.4717218598494, 3890.5631159668314, 3765.5100225207634, 3583.974406297322, 12710.029699830347, 6242.027235690573, 11451.99358964512, 22247.003734483143, 14362.854605669549, 11343.205426996605, 10398.441179433106, 9991.93069456274, 8012.679634810053, 7574.985088750203, 7367.4040446564495, 7225.680374173103, 6864.299086365373, 6563.490157778813, 6208.5986128913, 6100.289116616093, 5902.063605470803, 5513.458982622978, 5126.348527240158, 5113.913916656279, 4832.770713799497, 4776.202612729119, 4740.22299107489, 4388.288059992764, 4088.299571851626, 4029.1018015495783, 3969.602052498476, 3678.082678973859, 3677.2017264516003, 3646.5693547098235, 3586.078736117175, 3469.4418934231376, 3392.333864104417, 9938.064249675548, 5661.142139834906, 29080.40039072976, 11198.157001693404, 10678.914925393385, 7171.447429045573, 7021.844317558498, 6954.047747881237, 6826.984929990696, 6709.669547046295, 5188.923302826273, 5147.903103445524, 4489.711185253631, 4082.4445727687753, 4068.6357531172407, 4048.3546425367563, 4006.628918940557, 3957.3113023517435, 3694.566457236342, 3671.1057971686687, 3627.00803415541, 3593.478384783245, 3544.770278039531, 3375.8265570361245, 3309.585028594508, 3219.731118327231, 3176.1592106970857, 3072.940088309212, 3061.3783214366736, 3021.2433600577483, 2956.04940905577, 2954.9778086565366, 2880.473760874359, 9649.960816640641, 5630.7019616002135, 13813.601725892735, 11376.995254493342, 10214.253289678165, 9123.695989298745, 7431.9131427315, 7411.32637948694, 6851.756376738165, 6557.9374364511095, 5299.161290965655, 5207.011405019653, 4874.048387369477, 4642.879122222254, 4496.913089109597, 4463.871537028312, 4361.748190942698, 4260.106411391686, 4078.8312661000887, 3946.8602873855584, 3936.9658452506856, 3772.7597263529283, 3499.927975236129, 3493.338089983478, 3403.4549152930267, 2940.019877510076, 2900.294007194487, 2865.364351019757, 2860.9969333573526, 2652.513829559235, 2633.253891694003, 2539.896928148973, 16669.41998071318, 4945.414099450515, 10631.391988742773, 6459.687309291698, 24064.5274475902, 19950.138788434873, 10137.642777887848, 7755.786500444739, 7005.948789459881, 6369.118817839525, 5326.953151677473, 4430.108081797273, 4386.483665320824, 4319.165093814393, 4189.598138554501, 3873.18661654562, 3774.9279245215503, 3700.1956243385907, 3566.2160323982694, 3585.273733265164, 3453.1162737801396, 3452.3754123904496, 3405.654651515801, 3401.786455824616, 3399.9488526690766, 3386.4946321081566, 3367.1628621605073, 3333.786072104381, 3292.2903803171357, 3186.6173386690093, 3153.9824280435796, 3036.954406026991, 2969.1130091327514, 2804.5611888388853, 9765.421030147721, 11451.99358964512, 11407.272068460912, 10126.232300050866, 9243.594481378486, 8986.493733103152, 8304.89766583647, 7954.649619304313, 7226.948086533088, 6871.914632999253, 6398.509909203553, 5043.102968063731, 4888.504601584025, 4443.044657435233, 4303.113741155128, 4173.658306875249, 4124.544163432268, 4100.181294308991, 4089.2135444723244, 3946.5148258564614, 3747.4126841373877, 3541.057077079057, 3483.1475775484755, 3386.8312177240414, 3126.462388576369, 3101.7386232618414, 3098.974196573201, 3030.81492835046, 2975.362206989185, 2922.225914161681, 2865.760329816431, 2862.491694325803, 2845.219237746959, 6623.2667536353, 9765.421030147721, 9664.009100929778, 8692.516151494883, 7163.523386975401, 6308.901946942459, 5042.120154106905, 4527.809419612733, 4352.395733392688, 4154.069550355912, 4124.986946675406, 4120.945036678819, 4045.697785045667, 3989.0344013363656, 3967.694351469871, 3713.453033431872, 3556.0650224939427, 3474.385275556977, 3332.010788207898, 3199.1439078518415, 3139.841695906678, 3063.864454840605, 3034.181478005692, 2991.850970021173, 2980.0238366305393, 2873.9885309183187, 2838.842430639488, 2827.2679628717237, 2809.5128310356436, 2809.1326542758197, 2807.6618859711352, 2799.1686287421276, 17226.648347449955, 29080.40039072976, 12700.746924368552, 6856.060024895573, 6602.756288071014, 6198.749802051571, 5887.118614896268, 5762.683701278652, 5503.657960626241, 5404.191300818439, 5104.035617009288, 4724.816424793947, 4721.915917916024, 4655.21969770653, 4383.6239149979565, 4165.614993515307, 3985.0082961946464, 3866.6174156723846, 3866.661160750676, 3604.7064875501183, 3562.8366323962287, 3547.8864163121016, 3489.878959708248, 3389.2128047796327, 3165.6915557524158, 3056.128554571536, 2983.2090320371926, 2879.74778687326, 2791.8532510332293, 2610.1447280820285, 2586.6794305469093, 2577.0076571524473, 6685.509550881128, 6736.336158051412, 6741.656091325891, 5991.771678335682], \"Category\": [\"Default\", \"Default\", \"Default\", \"Default\", \"Default\", \"Default\", \"Default\", \"Default\", \"Default\", \"Default\", \"Default\", \"Default\", \"Default\", \"Default\", \"Default\", \"Default\", \"Default\", \"Default\", \"Default\", \"Default\", \"Default\", \"Default\", \"Default\", \"Default\", \"Default\", \"Default\", \"Default\", \"Default\", \"Default\", \"Default\", \"Topic1\", \"Topic1\", \"Topic1\", \"Topic1\", \"Topic1\", \"Topic1\", \"Topic1\", \"Topic1\", \"Topic1\", \"Topic1\", \"Topic1\", \"Topic1\", \"Topic1\", \"Topic1\", \"Topic1\", \"Topic1\", \"Topic1\", \"Topic1\", \"Topic1\", \"Topic1\", \"Topic1\", \"Topic1\", \"Topic1\", \"Topic1\", \"Topic1\", \"Topic1\", \"Topic1\", \"Topic1\", \"Topic1\", \"Topic1\", \"Topic1\", \"Topic1\", \"Topic1\", \"Topic1\", \"Topic1\", \"Topic1\", \"Topic1\", \"Topic2\", \"Topic2\", \"Topic2\", \"Topic2\", \"Topic2\", \"Topic2\", \"Topic2\", \"Topic2\", \"Topic2\", \"Topic2\", \"Topic2\", \"Topic2\", \"Topic2\", \"Topic2\", \"Topic2\", \"Topic2\", \"Topic2\", \"Topic2\", \"Topic2\", \"Topic2\", \"Topic2\", \"Topic2\", \"Topic2\", \"Topic2\", \"Topic2\", \"Topic2\", \"Topic2\", \"Topic2\", \"Topic2\", \"Topic2\", \"Topic2\", \"Topic2\", \"Topic2\", \"Topic2\", \"Topic2\", \"Topic2\", \"Topic2\", \"Topic2\", \"Topic3\", \"Topic3\", \"Topic3\", \"Topic3\", \"Topic3\", \"Topic3\", \"Topic3\", \"Topic3\", \"Topic3\", \"Topic3\", \"Topic3\", \"Topic3\", \"Topic3\", \"Topic3\", \"Topic3\", \"Topic3\", \"Topic3\", \"Topic3\", \"Topic3\", \"Topic3\", \"Topic3\", \"Topic3\", \"Topic3\", \"Topic3\", \"Topic3\", \"Topic3\", \"Topic3\", \"Topic3\", \"Topic3\", \"Topic3\", \"Topic3\", \"Topic3\", \"Topic3\", \"Topic4\", \"Topic4\", \"Topic4\", \"Topic4\", \"Topic4\", \"Topic4\", \"Topic4\", \"Topic4\", \"Topic4\", \"Topic4\", \"Topic4\", \"Topic4\", \"Topic4\", \"Topic4\", \"Topic4\", \"Topic4\", \"Topic4\", \"Topic4\", \"Topic4\", \"Topic4\", \"Topic4\", \"Topic4\", \"Topic4\", \"Topic4\", \"Topic4\", \"Topic4\", \"Topic4\", \"Topic4\", \"Topic4\", \"Topic4\", \"Topic4\", \"Topic4\", \"Topic4\", \"Topic5\", \"Topic5\", \"Topic5\", \"Topic5\", \"Topic5\", \"Topic5\", \"Topic5\", \"Topic5\", \"Topic5\", \"Topic5\", \"Topic5\", \"Topic5\", \"Topic5\", \"Topic5\", \"Topic5\", \"Topic5\", \"Topic5\", \"Topic5\", \"Topic5\", \"Topic5\", \"Topic5\", \"Topic5\", \"Topic5\", \"Topic5\", \"Topic5\", \"Topic5\", \"Topic5\", \"Topic5\", \"Topic5\", \"Topic5\", \"Topic5\", \"Topic5\", \"Topic6\", \"Topic6\", \"Topic6\", \"Topic6\", \"Topic6\", \"Topic6\", \"Topic6\", \"Topic6\", \"Topic6\", \"Topic6\", \"Topic6\", \"Topic6\", \"Topic6\", \"Topic6\", \"Topic6\", \"Topic6\", \"Topic6\", \"Topic6\", \"Topic6\", \"Topic6\", \"Topic6\", \"Topic6\", \"Topic6\", \"Topic6\", \"Topic6\", \"Topic6\", \"Topic6\", \"Topic6\", \"Topic6\", \"Topic6\", \"Topic6\", \"Topic6\", \"Topic6\", \"Topic6\", \"Topic7\", \"Topic7\", \"Topic7\", \"Topic7\", \"Topic7\", \"Topic7\", \"Topic7\", \"Topic7\", \"Topic7\", \"Topic7\", \"Topic7\", \"Topic7\", \"Topic7\", \"Topic7\", \"Topic7\", \"Topic7\", \"Topic7\", \"Topic7\", \"Topic7\", \"Topic7\", \"Topic7\", \"Topic7\", \"Topic7\", \"Topic7\", \"Topic7\", \"Topic7\", \"Topic7\", \"Topic7\", \"Topic7\", \"Topic7\", \"Topic7\", \"Topic7\", \"Topic7\", \"Topic8\", \"Topic8\", \"Topic8\", \"Topic8\", \"Topic8\", \"Topic8\", \"Topic8\", \"Topic8\", \"Topic8\", \"Topic8\", \"Topic8\", \"Topic8\", \"Topic8\", \"Topic8\", \"Topic8\", \"Topic8\", \"Topic8\", \"Topic8\", \"Topic8\", \"Topic8\", \"Topic8\", \"Topic8\", \"Topic8\", \"Topic8\", \"Topic8\", \"Topic8\", \"Topic8\", \"Topic8\", \"Topic8\", \"Topic8\", \"Topic8\", \"Topic8\", \"Topic9\", \"Topic9\", \"Topic9\", \"Topic9\", \"Topic9\", \"Topic9\", \"Topic9\", \"Topic9\", \"Topic9\", \"Topic9\", \"Topic9\", \"Topic9\", \"Topic9\", \"Topic9\", \"Topic9\", \"Topic9\", \"Topic9\", \"Topic9\", \"Topic9\", \"Topic9\", \"Topic9\", \"Topic9\", \"Topic9\", \"Topic9\", \"Topic9\", \"Topic9\", \"Topic9\", \"Topic9\", \"Topic9\", \"Topic9\", \"Topic9\", \"Topic9\", \"Topic10\", \"Topic10\", \"Topic10\", \"Topic10\", \"Topic10\", \"Topic10\", \"Topic10\", \"Topic10\", \"Topic10\", \"Topic10\", \"Topic10\", \"Topic10\", \"Topic10\", \"Topic10\", \"Topic10\", \"Topic10\", \"Topic10\", \"Topic10\", \"Topic10\", \"Topic10\", \"Topic10\", \"Topic10\", \"Topic10\", \"Topic10\", \"Topic10\", \"Topic10\", \"Topic10\", \"Topic10\", \"Topic10\", \"Topic10\", \"Topic10\", \"Topic10\", \"Topic10\", \"Topic10\"], \"logprob\": [30.0, 29.0, 28.0, 27.0, 26.0, 25.0, 24.0, 23.0, 22.0, 21.0, 20.0, 19.0, 18.0, 17.0, 16.0, 15.0, 14.0, 13.0, 12.0, 11.0, 10.0, 9.0, 8.0, 7.0, 6.0, 5.0, 4.0, 3.0, 2.0, 1.0, -3.5496, -3.6912, -3.8886, -4.1819, -4.2019, -4.2026, -4.2857, -4.4603, -4.6927, -4.7044, -4.7244, -4.744, -4.7455, -4.8038, -4.8161, -4.8168, -4.8203, -4.8206, -4.9691, -5.0111, -5.0305, -5.0367, -5.062, -5.0776, -5.0816, -5.1633, -5.1931, -5.1961, -5.2221, -5.2472, -3.8356, -4.3992, -4.7547, -4.479, -4.4866, -5.0409, -5.0752, -3.5632, -3.565, -3.6736, -3.9334, -4.0595, -4.0687, -4.1952, -4.2407, -4.2985, -4.4477, -4.5035, -4.5722, -4.5888, -4.5993, -4.6811, -4.7119, -4.7157, -4.7575, -4.8741, -4.9122, -4.9294, -4.942, -4.9789, -4.9856, -5.0048, -5.0615, -5.0709, -5.0964, -5.0987, -5.0988, -3.4832, -4.4008, -4.6511, -4.665, -4.8101, -4.495, -4.6877, -4.6873, -3.6983, -3.8025, -4.0298, -4.0692, -4.1684, -4.2982, -4.3461, -4.4233, -4.4294, -4.453, -4.5003, -4.5118, -4.5123, -4.5457, -4.5838, -4.7191, -4.7201, -4.7222, -4.7864, -4.8356, -4.8427, -4.8599, -4.8613, -4.8634, -4.8926, -4.8981, -4.9171, -4.9263, -4.959, -5.0084, -4.3003, -4.778, -4.8078, -3.1714, -3.609, -3.845, -3.932, -3.9718, -4.1926, -4.2488, -4.2766, -4.296, -4.3473, -4.3921, -4.4477, -4.4653, -4.4984, -4.5665, -4.6393, -4.6417, -4.6983, -4.7101, -4.7176, -4.7948, -4.8656, -4.8802, -4.8951, -4.9714, -4.9716, -4.98, -4.9967, -5.0298, -5.0523, -4.2766, -4.7405, -4.2158, -3.7833, -3.8308, -4.229, -4.2501, -4.2598, -4.2782, -4.2956, -4.5526, -4.5606, -4.6974, -4.7925, -4.7959, -4.8009, -4.8112, -4.8236, -4.8923, -4.8987, -4.9108, -4.9201, -4.9337, -4.9826, -5.0024, -5.0299, -5.0436, -5.0766, -5.0804, -5.0936, -5.1154, -5.1158, -5.1413, -4.1972, -4.9266, -3.542, -3.7361, -3.8439, -3.9568, -4.1619, -4.1647, -4.2432, -4.287, -4.5002, -4.5177, -4.5838, -4.6324, -4.6644, -4.6718, -4.6949, -4.7185, -4.762, -4.7949, -4.7974, -4.84, -4.9151, -4.917, -4.943, -5.0895, -5.1031, -5.1152, -5.1167, -5.1924, -5.1997, -5.2358, -3.7451, -5.0848, -4.9855, -5.0753, -2.9603, -3.1478, -3.8248, -4.0927, -4.1944, -4.2897, -4.4684, -4.6528, -4.6627, -4.6781, -4.7086, -4.7871, -4.8128, -4.8328, -4.8697, -4.8644, -4.902, -4.9022, -4.9158, -4.9169, -4.9175, -4.9214, -4.9272, -4.9371, -4.9497, -4.9823, -4.9926, -5.0304, -5.053, -5.11, -4.2409, -4.1849, -4.619, -3.7652, -3.8564, -3.8847, -3.9635, -4.0066, -4.1026, -4.153, -4.2244, -4.4624, -4.4936, -4.5891, -4.6211, -4.6517, -4.6635, -4.6695, -4.6721, -4.7077, -4.7594, -4.8161, -4.8326, -4.8606, -4.9407, -4.9486, -4.9495, -4.9717, -4.9902, -5.0082, -5.0277, -5.0289, -5.0349, -4.4654, -4.956, -3.8097, -3.9157, -4.1092, -4.2362, -4.4604, -4.568, -4.6075, -4.6542, -4.6612, -4.6622, -4.6806, -4.6947, -4.7001, -4.7663, -4.8096, -4.8329, -4.8747, -4.9154, -4.9341, -4.9586, -4.9684, -4.9824, -4.9864, -5.0226, -5.0349, -5.039, -5.0453, -5.0455, -5.046, -5.049, -4.6505, -4.8942, -3.4785, -4.0951, -4.1328, -4.1959, -4.2475, -4.2689, -4.3149, -4.3331, -4.3903, -4.4675, -4.4681, -4.4823, -4.5424, -4.5935, -4.6378, -4.668, -4.6679, -4.7381, -4.7498, -4.754, -4.7705, -4.7998, -4.868, -4.9032, -4.9274, -4.9627, -4.9937, -5.061, -5.0701, -5.0738, -4.5219, -4.5911, -4.7016, -4.8827], \"loglift\": [30.0, 29.0, 28.0, 27.0, 26.0, 25.0, 24.0, 23.0, 22.0, 21.0, 20.0, 19.0, 18.0, 17.0, 16.0, 15.0, 14.0, 13.0, 12.0, 11.0, 10.0, 9.0, 8.0, 7.0, 6.0, 5.0, 4.0, 3.0, 2.0, 1.0, 2.1074, 2.1074, 2.1073, 2.1073, 2.1073, 2.1073, 2.1073, 2.1073, 2.1073, 2.1073, 2.1073, 2.1073, 2.1073, 2.1072, 2.1072, 2.1072, 2.1072, 2.1072, 2.1072, 2.1072, 2.1072, 2.1072, 2.1072, 2.1072, 2.1072, 2.1072, 2.1072, 2.1072, 2.1072, 2.1071, 1.8303, 1.8513, 1.8644, 1.6182, 1.4793, 1.8849, 1.1508, 2.1396, 2.1396, 2.1396, 2.1395, 2.1395, 2.1395, 2.1395, 2.1395, 2.1395, 2.1395, 2.1395, 2.1395, 2.1395, 2.1395, 2.1395, 2.1395, 2.1394, 2.1394, 2.1394, 2.1394, 2.1394, 2.1394, 2.1394, 2.1394, 2.1394, 2.1394, 2.1394, 2.1394, 2.1394, 2.1394, 1.6591, 1.868, 1.8839, 1.8871, 1.973, 1.6232, 1.8137, 1.0115, 2.2277, 2.2276, 2.2276, 2.2276, 2.2276, 2.2276, 2.2276, 2.2276, 2.2276, 2.2276, 2.2276, 2.2276, 2.2276, 2.2276, 2.2276, 2.2275, 2.2275, 2.2275, 2.2275, 2.2275, 2.2275, 2.2275, 2.2275, 2.2275, 2.2275, 2.2275, 2.2275, 2.2275, 2.2275, 2.2275, 1.6697, 1.9031, 1.2664, 2.2388, 2.2388, 2.2387, 2.2387, 2.2387, 2.2387, 2.2387, 2.2387, 2.2387, 2.2387, 2.2387, 2.2387, 2.2387, 2.2387, 2.2387, 2.2387, 2.2387, 2.2387, 2.2386, 2.2386, 2.2386, 2.2386, 2.2386, 2.2386, 2.2386, 2.2386, 2.2386, 2.2386, 2.2386, 2.2386, 1.9394, 2.0382, 0.9265, 2.3133, 2.3133, 2.3133, 2.3133, 2.3133, 2.3133, 2.3132, 2.3132, 2.3132, 2.3132, 2.3132, 2.3132, 2.3132, 2.3132, 2.3132, 2.3131, 2.3131, 2.3131, 2.3131, 2.3131, 2.3131, 2.3131, 2.3131, 2.3131, 2.3131, 2.3131, 2.3131, 2.3131, 2.3131, 2.3131, 2.0482, 1.8575, 2.3447, 2.3447, 2.3447, 2.3447, 2.3447, 2.3447, 2.3446, 2.3446, 2.3446, 2.3446, 2.3446, 2.3446, 2.3446, 2.3446, 2.3446, 2.3446, 2.3446, 2.3446, 2.3446, 2.3446, 2.3445, 2.3445, 2.3445, 2.3445, 2.3445, 2.3445, 2.3445, 2.3445, 2.3445, 2.3444, 1.9537, 1.8291, 1.163, 1.5715, 2.3713, 2.3713, 2.3713, 2.3713, 2.3712, 2.3712, 2.3712, 2.3712, 2.3712, 2.3712, 2.3712, 2.3711, 2.3711, 2.3711, 2.3711, 2.3711, 2.3711, 2.3711, 2.3711, 2.3711, 2.3711, 2.3711, 2.3711, 2.3711, 2.3711, 2.3711, 2.3711, 2.3711, 2.3711, 2.3711, 1.9926, 1.8893, 1.4591, 2.432, 2.432, 2.432, 2.432, 2.432, 2.432, 2.4319, 2.4319, 2.4319, 2.4319, 2.4319, 2.4319, 2.4319, 2.4319, 2.4319, 2.4319, 2.4319, 2.4318, 2.4318, 2.4318, 2.4318, 2.4318, 2.4318, 2.4318, 2.4318, 2.4318, 2.4318, 2.4318, 2.4318, 2.4318, 2.1563, 1.2775, 2.4342, 2.4342, 2.4342, 2.4342, 2.4342, 2.4341, 2.4341, 2.4341, 2.4341, 2.4341, 2.4341, 2.4341, 2.4341, 2.4341, 2.4341, 2.4341, 2.4341, 2.4341, 2.4341, 2.434, 2.434, 2.434, 2.434, 2.434, 2.434, 2.434, 2.434, 2.434, 2.434, 2.434, 1.0154, 0.2481, 2.4922, 2.4921, 2.4921, 2.4921, 2.4921, 2.4921, 2.4921, 2.4921, 2.4921, 2.4921, 2.4921, 2.4921, 2.492, 2.492, 2.492, 2.492, 2.492, 2.492, 2.492, 2.492, 2.492, 2.492, 2.492, 2.492, 2.492, 2.4919, 2.4919, 2.4919, 2.4919, 2.4919, 2.0906, 2.0138, 1.9025, 1.8392]}, \"token.table\": {\"Topic\": [7, 8, 7, 2, 2, 4, 9, 10, 8, 9, 2, 6, 5, 2, 2, 2, 4, 7, 4, 6, 3, 4, 1, 3, 6, 8, 9, 10, 8, 10, 7, 9, 9, 3, 5, 2, 4, 8, 5, 3, 7, 10, 1, 9, 6, 6, 8, 1, 2, 9, 3, 6, 5, 5, 2, 10, 4, 4, 8, 5, 9, 3, 9, 5, 5, 6, 9, 8, 7, 3, 1, 9, 1, 10, 7, 1, 5, 10, 1, 3, 2, 4, 7, 7, 10, 3, 7, 4, 6, 2, 4, 9, 7, 4, 5, 1, 6, 7, 7, 9, 1, 9, 4, 2, 7, 6, 10, 2, 8, 3, 4, 10, 4, 1, 7, 4, 6, 2, 5, 5, 2, 3, 7, 8, 8, 3, 4, 4, 5, 2, 6, 4, 5, 1, 1, 6, 1, 10, 10, 8, 8, 9, 10, 3, 1, 9, 9, 2, 7, 1, 5, 2, 5, 6, 8, 5, 8, 3, 2, 1, 8, 3, 8, 1, 1, 4, 9, 10, 9, 3, 8, 9, 6, 4, 1, 2, 7, 3, 4, 5, 6, 6, 5, 7, 10, 6, 10, 4, 5, 6, 5, 9, 6, 9, 1, 8, 2, 8, 5, 7, 6, 5, 8, 5, 10, 3, 10, 2, 3, 7, 5, 2, 7, 1, 1, 10, 4, 2, 9, 10, 2, 10, 9, 8, 10, 10, 1, 6, 4, 3, 10, 6, 2, 10, 10, 9, 2, 6, 5, 1, 5, 6, 9, 7, 2, 9, 2, 4, 9, 9, 6, 7, 2, 6, 2, 6, 3, 1, 9, 3, 5, 1, 9, 8, 1, 1, 10, 3, 9, 8, 1, 1, 1, 2, 6, 4, 3, 1, 1, 5, 3, 10, 10, 4, 1, 10, 5, 2, 8, 3, 1, 2, 4, 4, 7, 7, 1, 1, 2, 4, 5, 3, 7, 4, 7, 10, 3, 7, 5, 2, 4, 6, 6, 2, 4, 7, 3, 5, 9, 5, 6, 10, 2, 6, 1, 7, 8, 9, 3, 9, 9, 7, 8, 2, 10, 8, 9, 2, 6, 5, 8, 9, 5, 4, 4, 7, 7, 8, 6, 6, 8, 9, 10, 3, 1, 7, 6, 10, 1, 3, 4, 5, 10, 5, 7, 6, 3, 8, 3, 4, 10, 8, 1, 6, 9, 3, 7, 8, 8, 4, 2], \"Freq\": [0.9997209214872949, 0.9998919112706033, 0.9996447319340372, 0.9998195835357743, 0.7767979325635724, 0.22306887693631233, 0.999824998750316, 0.9999411905163531, 0.9997411778488502, 0.9996106106327995, 0.9998615047448517, 0.9997961999293774, 0.9995884608058436, 0.9998742955376435, 0.9998521529492351, 0.9999077436146389, 0.999940498898512, 0.9999780819469092, 0.9999548822621184, 0.9997820324706431, 0.9997838124812076, 0.9998483342938376, 0.22715745995982117, 0.21831572031749272, 0.30673311674077713, 0.15886913038183767, 0.08888770172340829, 0.9998099894074773, 0.9997545736204121, 0.99978154670465, 0.9998572324755931, 0.9997406887902448, 0.9996424331368671, 0.9997495551171502, 0.9998232320398318, 0.9996943973494823, 0.999699187832573, 0.9999203081325513, 0.9998668741725926, 0.9999159870773733, 0.999821070009378, 0.9998523642928441, 0.7579535924022514, 0.2419507216920107, 0.9998106514946627, 0.9998772999217249, 0.9998521048652117, 0.9997799824778091, 0.999770508908792, 0.9997178547375882, 0.9998552610637467, 0.9998057609363641, 0.9998430303995501, 0.9998966792755961, 0.9999439444274383, 0.9996307241166777, 0.99986995502451, 0.9999035832514511, 0.9999183346425797, 0.9996987836282132, 0.9997607394427753, 0.9997478766184145, 0.9999269372141155, 0.9997220755658887, 0.6338463701931953, 0.21151892039789735, 0.15451004260803586, 0.9997346847855628, 0.9997642103940145, 0.9998614989891765, 0.9996720800691054, 0.9995967957319154, 0.999773036964162, 0.999779559835667, 0.9996590132546032, 0.7841968124691604, 0.21562400834405485, 0.9995614311843659, 0.9997096417370777, 0.9998319114731701, 0.9999531653315145, 0.7411906197165591, 0.2587022920569201, 0.9996767343779833, 0.9998290099072069, 0.9997551240534364, 0.9996080599922624, 0.9997886794229831, 0.9998896083432369, 0.5967083821267158, 0.24127495983224292, 0.16206669011424488, 0.9997688109365979, 0.9999015827693288, 0.9996350275221779, 0.9996692419989704, 0.9995238242320811, 0.9996885118842628, 0.9998985917876034, 0.9995825086312672, 0.9998634218803802, 0.9997706747674605, 0.9997265391633553, 0.999843086615114, 0.9998897373482437, 0.9999564396089684, 0.9998576714129555, 0.9999253019039924, 0.9997032327954687, 0.999779389486604, 0.3801769893770872, 0.6197731084144237, 0.9999320125741928, 0.9997625682567198, 0.9998062714774322, 0.9998197909168893, 0.999780853817823, 0.9997161311315793, 0.9998557298718546, 0.9999002116212132, 0.9999649005415224, 0.9999636271493977, 0.6847631023133517, 0.3151937832990125, 0.9998695492404872, 0.9998043222696487, 0.9997056403924663, 0.8182094505995007, 0.18158879862182356, 0.7742790849542633, 0.2255141479332192, 0.9998405234087981, 0.9997827001528694, 0.9997902340190085, 0.7741480808747035, 0.225827911643751, 0.9999055927458658, 0.9998060283300367, 0.9997501565134593, 0.9995714784538274, 0.21980143281524697, 0.25968946807936544, 0.520547204973998, 0.9999273387257168, 0.9999349172123785, 0.9997005053374429, 0.999777840655782, 0.9998243524615661, 0.9996936330047845, 0.9999409005831957, 0.9998245686782801, 0.7622115101456581, 0.23773361088885456, 0.9998570531573084, 0.999670534330537, 0.9996690978004397, 0.9998967779259404, 0.9998606982727537, 0.9999106300280788, 0.9999204411727007, 0.9997648780249182, 0.9998921187950496, 0.9997014797965559, 0.9999479180208075, 0.9999215120467231, 0.9996731953966638, 0.9998780021107596, 0.9997651780077085, 0.9996966431767043, 0.9998267639313476, 0.9997311190654246, 0.9996564334090371, 0.9995538358555107, 0.9998212882204954, 0.9997827199734853, 0.9999128034841236, 0.9997498747712665, 0.9997281213014217, 0.9998937313615307, 0.9996940752887475, 0.9999559620680256, 0.9997402855034964, 0.9998437429261753, 0.33071525560958887, 0.6692085271810496, 0.9998062858132881, 0.999885458732987, 0.9999451577985949, 0.9998355267523024, 0.9998663372060601, 0.9998797584337797, 0.999827524179328, 0.9999032186479611, 0.9998955815418592, 0.9998171921846583, 0.9997618679871018, 0.9999026590869766, 0.9998669027413611, 0.7671533740566154, 0.2328506864116189, 0.9997348587620388, 0.999876421207394, 0.999711892176419, 0.9999143241237732, 0.9997970983968378, 0.7228420879360076, 0.27715354878752063, 0.27387819558332455, 0.5723039341203973, 0.1537368555500765, 0.9997551541756783, 0.9997546554430213, 0.9996546462977555, 0.9999076354779314, 0.4454395120901808, 0.5544631688954698, 0.9999151800844376, 0.9997257123153037, 0.9997642572367982, 0.9998272049704063, 0.9999202955474609, 0.9997403290396928, 0.9998212337274561, 0.999878264572853, 0.9998790397942302, 0.9998804503057879, 0.9999492719296208, 0.9998728430401435, 0.9999167523283615, 0.9998960588799826, 0.9995947209785809, 0.9997986284820575, 0.999937576522056, 0.9998813571394696, 0.9998040096877351, 0.9998570358280974, 0.9998174666128051, 0.9999125204440119, 0.9996449961044105, 0.533586801953331, 0.1276564694348621, 0.18368739371106002, 0.15500582967597132, 0.9998077751320118, 0.9996830076706145, 0.9997155707186955, 0.6184233971459668, 0.26918473937158743, 0.11234370765546452, 0.9995515236304535, 0.999804757591906, 0.9996251374975194, 0.7219478543174742, 0.2780429618797319, 0.9998836294151722, 0.9997546726873816, 0.99986651966365, 0.9997120372442507, 0.9998174662062481, 0.9998798611340499, 0.9999123983523998, 0.800508673738581, 0.19930865240832768, 0.9997812917819215, 0.9999734716492324, 0.9998476057834065, 0.9997373348475711, 0.9998297861588884, 0.9998891097197288, 0.9998688123227487, 0.9997885892524836, 0.9998772031811837, 0.9999481511463392, 0.9996537111017131, 0.9996515433673734, 0.9996821241132686, 0.9999209428957527, 0.9999133405155649, 0.9999094807976583, 0.9997729256573417, 0.999843504630238, 0.9997379935243162, 0.9998403214991268, 0.9997064777938105, 0.9998158955240144, 0.9997481403457266, 0.9998415966586076, 0.9998464760800702, 0.9998282285580853, 0.9997500821429369, 0.6131310934603457, 0.22418331586884396, 0.16262002187377284, 0.9997482073465824, 0.9998912596848238, 0.9997541874864623, 0.9997528752725393, 0.9998636483905242, 0.9997879110625042, 0.9998107474122225, 0.9999376096596957, 0.9998334134719811, 0.9998243371066667, 0.9999575725413556, 0.9997999013745471, 0.9996089817002869, 0.38237883786098925, 0.6175344008570258, 0.9998466782928663, 0.9996918255373328, 0.9998438656571585, 0.9998284653515186, 0.9999237162987936, 0.9998638044528939, 0.9998726327067258, 0.9998539397926497, 0.9998117507175015, 0.9998911013338085, 0.9999090768815776, 0.9998220627339451, 0.9997969520220863, 0.9996421573829999, 0.32364653396711535, 0.6763282713522258, 0.23178197067028777, 0.40158593329825576, 0.20118745184883147, 0.16533313036466063, 0.9997225353717214, 0.9997425295019867, 0.9999406211635518, 0.9998645737374918, 0.9998898749157961, 0.8466319525842483, 0.15328793106303237, 0.9999356872069968, 0.999703248538772, 0.40279741189344104, 0.5971188540769736, 0.24081772021707495, 0.7589910216496776, 0.9997319304639545, 0.9996686380596431, 0.9999253205585702, 0.999905839431324, 0.999685735806538, 0.9999429182700457, 0.9998680670128126, 0.9998771322115904, 0.9996531052331048, 0.9995804861781082, 0.9996560421491999, 0.9996943782654358, 0.9999241816048171, 0.9997941738089863, 0.9997302502245026, 0.9997849041933614, 0.9997469776422776, 0.38415477991029773, 0.25000549168765407, 0.15579610518584297, 0.09105891079355206, 0.11880342267596246, 0.9998493326593053, 0.9996768753709327, 0.9996468643514496, 0.9998362531515264, 0.9998422710181702, 0.999864554199109, 0.9999068553824892, 0.9998453886209099, 0.9996856390174922, 0.2706013335174373, 0.46147744577544664, 0.26781482092972914, 0.9998230598407256, 0.9999365949361275, 0.999878306164193, 0.9999450583155326, 0.9997419971429208, 0.9997153012427956], \"Term\": [\"2015\", \"2016\", \"2017\", \"abuse\", \"accuse\", \"accuse\", \"action\", \"adelaide\", \"ahead\", \"airport\", \"allege\", \"announce\", \"anti\", \"appeal\", \"arrest\", \"assault\", \"attack\", \"australia\", \"australian\", \"australians\", \"australias\", \"baby\", \"back\", \"back\", \"back\", \"back\", \"back\", \"bank\", \"battle\", \"beach\", \"beat\", \"begin\", \"behind\", \"bill\", \"black\", \"body\", \"bomb\", \"break\", \"bring\", \"brisbane\", \"budget\", \"business\", \"call\", \"call\", \"campaign\", \"canberra\", \"cancer\", \"care\", \"case\", \"cattle\", \"cause\", \"centre\", \"challenge\", \"change\", \"charge\", \"chief\", \"child\", \"children\", \"china\", \"chinese\", \"christmas\", \"city\", \"claim\", \"climate\", \"close\", \"close\", \"close\", \"coach\", \"coal\", \"coast\", \"come\", \"comment\", \"commission\", \"community\", \"company\", \"concern\", \"concern\", \"confirm\", \"cost\", \"country\", \"court\", \"crash\", \"crash\", \"cricket\", \"cyclone\", \"darwin\", \"david\", \"dead\", \"deal\", \"death\", \"death\", \"death\", \"debate\", \"deny\", \"despite\", \"doctor\", \"dollar\", \"domestic\", \"donald\", \"double\", \"draw\", \"drive\", \"driver\", \"drug\", \"drum\", \"election\", \"energy\", \"face\", \"fail\", \"fall\", \"family\", \"family\", \"farm\", \"farmers\", \"fatal\", \"fear\", \"federal\", \"festival\", \"fight\", \"final\", \"find\", \"fire\", \"first\", \"first\", \"five\", \"flood\", \"food\", \"force\", \"force\", \"former\", \"former\", \"four\", \"free\", \"french\", \"fund\", \"fund\", \"future\", \"game\", \"george\", \"girl\", \"give\", \"give\", \"give\", \"gold\", \"government\", \"great\", \"green\", \"guilty\", \"head\", \"health\", \"hear\", \"help\", \"help\", \"high\", \"hill\", \"history\", \"hobart\", \"hold\", \"home\", \"hospital\", \"hour\", \"house\", \"india\", \"indigenous\", \"industry\", \"injure\", \"inquest\", \"inquiry\", \"international\", \"interview\", \"investigate\", \"investigation\", \"islamic\", \"island\", \"issue\", \"jail\", \"john\", \"keep\", \"kill\", \"know\", \"labor\", \"launch\", \"laws\", \"lead\", \"lead\", \"leader\", \"league\", \"leave\", \"legal\", \"liberal\", \"life\", \"light\", \"link\", \"live\", \"london\", \"long\", \"look\", \"lose\", \"make\", \"make\", \"malcolm\", \"march\", \"mark\", \"market\", \"media\", \"meet\", \"meet\", \"melbourne\", \"melbourne\", \"melbourne\", \"mental\", \"michael\", \"million\", \"mine\", \"minister\", \"minister\", \"miss\", \"mother\", \"mount\", \"move\", \"murder\", \"murray\", \"name\", \"nation\", \"national\", \"near\", \"need\", \"newcastle\", \"news\", \"north\", \"offer\", \"officer\", \"open\", \"park\", \"parliament\", \"party\", \"people\", \"perth\", \"peter\", \"plan\", \"plan\", \"plan\", \"plan\", \"play\", \"plead\", \"point\", \"police\", \"police\", \"police\", \"political\", \"port\", \"post\", \"power\", \"power\", \"premier\", \"president\", \"price\", \"prison\", \"probe\", \"project\", \"protest\", \"public\", \"public\", \"push\", \"queensland\", \"question\", \"quiz\", \"race\", \"rail\", \"record\", \"regional\", \"release\", \"report\", \"rescue\", \"research\", \"residents\", \"return\", \"reveal\", \"review\", \"right\", \"rise\", \"risk\", \"river\", \"road\", \"royal\", \"rugby\", \"rule\", \"rural\", \"russia\", \"save\", \"school\", \"school\", \"school\", \"search\", \"season\", \"second\", \"seek\", \"senate\", \"sentence\", \"service\", \"share\", \"shark\", \"shoot\", \"show\", \"sign\", \"slam\", \"south\", \"south\", \"speak\", \"stab\", \"stand\", \"star\", \"state\", \"station\", \"steal\", \"still\", \"storm\", \"street\", \"strike\", \"students\", \"study\", \"super\", \"sydney\", \"sydney\", \"take\", \"take\", \"take\", \"take\", \"talk\", \"target\", \"tasmania\", \"tasmanian\", \"team\", \"tell\", \"tell\", \"test\", \"thousands\", \"three\", \"three\", \"time\", \"time\", \"town\", \"trade\", \"train\", \"trial\", \"truck\", \"trump\", \"turn\", \"turnbull\", \"union\", \"unite\", \"victim\", \"victims\", \"victoria\", \"victorian\", \"violence\", \"vote\", \"wall\", \"warn\", \"warn\", \"warn\", \"warn\", \"warn\", \"water\", \"week\", \"welcome\", \"west\", \"western\", \"white\", \"woman\", \"women\", \"womens\", \"work\", \"work\", \"work\", \"workers\", \"world\", \"year\", \"years\", \"young\", \"youth\"]}, \"R\": 30, \"lambda.step\": 0.01, \"plot.opts\": {\"xlab\": \"PC1\", \"ylab\": \"PC2\"}, \"topic.order\": [8, 10, 5, 9, 1, 3, 6, 2, 4, 7]};\n",
       "\n",
       "function LDAvis_load_lib(url, callback){\n",
       "  var s = document.createElement('script');\n",
       "  s.src = url;\n",
       "  s.async = true;\n",
       "  s.onreadystatechange = s.onload = callback;\n",
       "  s.onerror = function(){console.warn(\"failed to load library \" + url);};\n",
       "  document.getElementsByTagName(\"head\")[0].appendChild(s);\n",
       "}\n",
       "\n",
       "if(typeof(LDAvis) !== \"undefined\"){\n",
       "   // already loaded: just create the visualization\n",
       "   !function(LDAvis){\n",
       "       new LDAvis(\"#\" + \"ldavis_el1548417711690967121176488463\", ldavis_el1548417711690967121176488463_data);\n",
       "   }(LDAvis);\n",
       "}else if(typeof define === \"function\" && define.amd){\n",
       "   // require.js is available: use it to load d3/LDAvis\n",
       "   require.config({paths: {d3: \"https://d3js.org/d3.v5\"}});\n",
       "   require([\"d3\"], function(d3){\n",
       "      window.d3 = d3;\n",
       "      LDAvis_load_lib(\"https://cdn.jsdelivr.net/gh/bmabey/pyLDAvis@3.3.1/pyLDAvis/js/ldavis.v3.0.0.js\", function(){\n",
       "        new LDAvis(\"#\" + \"ldavis_el1548417711690967121176488463\", ldavis_el1548417711690967121176488463_data);\n",
       "      });\n",
       "    });\n",
       "}else{\n",
       "    // require.js not available: dynamically load d3 & LDAvis\n",
       "    LDAvis_load_lib(\"https://d3js.org/d3.v5.js\", function(){\n",
       "         LDAvis_load_lib(\"https://cdn.jsdelivr.net/gh/bmabey/pyLDAvis@3.3.1/pyLDAvis/js/ldavis.v3.0.0.js\", function(){\n",
       "                 new LDAvis(\"#\" + \"ldavis_el1548417711690967121176488463\", ldavis_el1548417711690967121176488463_data);\n",
       "            })\n",
       "         });\n",
       "}\n",
       "</script>"
      ],
      "text/plain": [
       "<IPython.core.display.HTML object>"
      ]
     },
     "execution_count": 12,
     "metadata": {},
     "output_type": "execute_result"
    }
   ],
   "source": [
    "import pyLDAvis.gensim_models\n",
    "pyLDAvis.enable_notebook()\n",
    "vis = pyLDAvis.gensim_models.prepare(ldamodel, corpus, dictionary)\n",
    "pyLDAvis.display(vis)"
   ]
  }
 ],
 "metadata": {
  "kernelspec": {
   "display_name": "intown_kernel",
   "language": "python",
   "name": "intown_kernel"
  },
  "language_info": {
   "codemirror_mode": {
    "name": "ipython",
    "version": 3
   },
   "file_extension": ".py",
   "mimetype": "text/x-python",
   "name": "python",
   "nbconvert_exporter": "python",
   "pygments_lexer": "ipython3",
   "version": "3.7.0"
  }
 },
 "nbformat": 4,
 "nbformat_minor": 5
}
